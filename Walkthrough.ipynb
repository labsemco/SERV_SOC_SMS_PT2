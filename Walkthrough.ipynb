{
  "cells": [
    {
      "cell_type": "code",
      "execution_count": 1,
      "metadata": {
        "id": "zodrchhKJH9U"
      },
      "outputs": [],
      "source": [
        "import pandas as pd\n",
        "import numpy as np\n",
        "import matplotlib.pyplot as plt"
      ]
    },
    {
      "cell_type": "markdown",
      "metadata": {
        "id": "RGtTzIgvJH9V"
      },
      "source": [
        "# 0. Cargar dataframe con el corpus"
      ]
    },
    {
      "cell_type": "markdown",
      "metadata": {
        "id": "ONFSMnEeJH9X"
      },
      "source": [
        "Puede hacer falta instalar *openpyxl*:\n",
        "\n",
        "`pip3 install openpyxl`"
      ]
    },
    {
      "cell_type": "code",
      "execution_count": 3,
      "metadata": {
        "colab": {
          "base_uri": "https://localhost:8080/",
          "height": 1000
        },
        "id": "tESSVqK6JH9Y",
        "outputId": "802de63c-644d-4094-f845-d9a1db0e4626"
      },
      "outputs": [
        {
          "output_type": "execute_result",
          "data": {
            "text/html": [
              "\n",
              "  <div id=\"df-99203388-477b-4da8-98d0-02d13f8d3a80\">\n",
              "    <div class=\"colab-df-container\">\n",
              "      <div>\n",
              "<style scoped>\n",
              "    .dataframe tbody tr th:only-of-type {\n",
              "        vertical-align: middle;\n",
              "    }\n",
              "\n",
              "    .dataframe tbody tr th {\n",
              "        vertical-align: top;\n",
              "    }\n",
              "\n",
              "    .dataframe thead th {\n",
              "        text-align: right;\n",
              "    }\n",
              "</style>\n",
              "<table border=\"1\" class=\"dataframe\">\n",
              "  <thead>\n",
              "    <tr style=\"text-align: right;\">\n",
              "      <th></th>\n",
              "      <th>Unnamed: 0</th>\n",
              "      <th>Exc_register_id</th>\n",
              "      <th>Exc_patientCenter_id</th>\n",
              "      <th>Exc_texto_relleno</th>\n",
              "      <th>TEXTO_SIN_STOPWORDS</th>\n",
              "      <th>texto_tokenizado</th>\n",
              "      <th>Num_palabras</th>\n",
              "      <th>Mexico02</th>\n",
              "      <th>Mexico01</th>\n",
              "      <th>CurrentActivity</th>\n",
              "      <th>Prof</th>\n",
              "      <th>Weight</th>\n",
              "      <th>Size</th>\n",
              "      <th>FamStatus</th>\n",
              "      <th>NumberChildren</th>\n",
              "      <th>Mexico06</th>\n",
              "      <th>@1_A</th>\n",
              "      <th>@2_A</th>\n",
              "      <th>@3_A</th>\n",
              "      <th>@4_A</th>\n",
              "      <th>@5_A</th>\n",
              "      <th>Mexico10</th>\n",
              "      <th>Bariatrica02</th>\n",
              "      <th>TerMedicamentos05</th>\n",
              "      <th>Mexico11</th>\n",
              "      <th>Mexico12</th>\n",
              "      <th>Mexico18</th>\n",
              "      <th>Mexico13</th>\n",
              "      <th>PHQ01</th>\n",
              "      <th>PHQ02</th>\n",
              "      <th>PHQ03</th>\n",
              "      <th>PHQ04</th>\n",
              "      <th>PHQ05</th>\n",
              "      <th>PHQ06</th>\n",
              "      <th>PHQ07</th>\n",
              "      <th>PHQ08</th>\n",
              "      <th>PHQ09</th>\n",
              "      <th>Gad01Last2week</th>\n",
              "      <th>Gad02Last2week</th>\n",
              "      <th>Gad05Last2week</th>\n",
              "      <th>Gad07Last2week</th>\n",
              "      <th>DAST01</th>\n",
              "      <th>DAST02</th>\n",
              "      <th>DAST03</th>\n",
              "      <th>DAST04</th>\n",
              "      <th>DAST05</th>\n",
              "      <th>DAST06</th>\n",
              "      <th>DAST07</th>\n",
              "      <th>DAST08</th>\n",
              "      <th>DAST09</th>\n",
              "      <th>DAST10</th>\n",
              "      <th>@1</th>\n",
              "      <th>@2</th>\n",
              "      <th>@3</th>\n",
              "      <th>@4</th>\n",
              "      <th>@5</th>\n",
              "      <th>@6</th>\n",
              "      <th>Cannabis</th>\n",
              "      <th>ALCA01</th>\n",
              "      <th>ALCA02</th>\n",
              "      <th>ALCA03</th>\n",
              "      <th>CSSRS01</th>\n",
              "      <th>CSSRS02</th>\n",
              "      <th>CSSRS03</th>\n",
              "      <th>CSSRS04</th>\n",
              "      <th>CSSRS05</th>\n",
              "      <th>CSSRS06</th>\n",
              "      <th>CSSRS07</th>\n",
              "      <th>NSSIIS01B_Sometimes</th>\n",
              "      <th>NSSIIS01B_Last_Month_nb</th>\n",
              "      <th>T_WHODAS</th>\n",
              "      <th>T_PHQ_9</th>\n",
              "      <th>T_GAD_2</th>\n",
              "      <th>T_DAST</th>\n",
              "      <th>T_ALC</th>\n",
              "      <th>BMI</th>\n",
              "    </tr>\n",
              "  </thead>\n",
              "  <tbody>\n",
              "    <tr>\n",
              "      <th>0</th>\n",
              "      <td>28</td>\n",
              "      <td>5d9f38c92fc67657d35eabf4</td>\n",
              "      <td>66846</td>\n",
              "      <td>Soy una persona hipersensible y extremadamente...</td>\n",
              "      <td>persona hipersensible extremadamente emocional...</td>\n",
              "      <td>['persona', 'hipersensible', 'extremadamente',...</td>\n",
              "      <td>16</td>\n",
              "      <td>Si</td>\n",
              "      <td>Si</td>\n",
              "      <td>Estudiante</td>\n",
              "      <td>Empleadoa</td>\n",
              "      <td>55.7</td>\n",
              "      <td>150.0</td>\n",
              "      <td>Solteroa</td>\n",
              "      <td>0.0</td>\n",
              "      <td>1-3</td>\n",
              "      <td>NaN</td>\n",
              "      <td>NaN</td>\n",
              "      <td>NaN</td>\n",
              "      <td>NaN</td>\n",
              "      <td>NaN</td>\n",
              "      <td>NaN</td>\n",
              "      <td>No</td>\n",
              "      <td>Si</td>\n",
              "      <td>NaN</td>\n",
              "      <td>NaN</td>\n",
              "      <td>NaN</td>\n",
              "      <td>NaN</td>\n",
              "      <td>Varios días</td>\n",
              "      <td>Varios días</td>\n",
              "      <td>Varios días</td>\n",
              "      <td>Varios días</td>\n",
              "      <td>Casi todos los días</td>\n",
              "      <td>Casi todos los días</td>\n",
              "      <td>Casi todos los días</td>\n",
              "      <td>Varios días</td>\n",
              "      <td>Varios días</td>\n",
              "      <td>1.0</td>\n",
              "      <td>NaN</td>\n",
              "      <td>NaN</td>\n",
              "      <td>0.0</td>\n",
              "      <td>Si</td>\n",
              "      <td>NaN</td>\n",
              "      <td>NaN</td>\n",
              "      <td>NaN</td>\n",
              "      <td>NaN</td>\n",
              "      <td>Si</td>\n",
              "      <td>Si</td>\n",
              "      <td>NaN</td>\n",
              "      <td>NaN</td>\n",
              "      <td>NaN</td>\n",
              "      <td>NaN</td>\n",
              "      <td>NaN</td>\n",
              "      <td>NaN</td>\n",
              "      <td>NaN</td>\n",
              "      <td>NaN</td>\n",
              "      <td>NaN</td>\n",
              "      <td>NaN</td>\n",
              "      <td>Menos de una vez al mes</td>\n",
              "      <td>1 ó 2</td>\n",
              "      <td>Nunca</td>\n",
              "      <td>Si</td>\n",
              "      <td>No</td>\n",
              "      <td>No</td>\n",
              "      <td>No</td>\n",
              "      <td>No</td>\n",
              "      <td>Si</td>\n",
              "      <td>No</td>\n",
              "      <td>Si</td>\n",
              "      <td>0</td>\n",
              "      <td>29.6</td>\n",
              "      <td>15.0</td>\n",
              "      <td>1.0</td>\n",
              "      <td>3.0</td>\n",
              "      <td>1.0</td>\n",
              "      <td>24.755556</td>\n",
              "    </tr>\n",
              "    <tr>\n",
              "      <th>1</th>\n",
              "      <td>39</td>\n",
              "      <td>5dcd652e2fc6762322259bd3</td>\n",
              "      <td>77472</td>\n",
              "      <td>no mantengo relaciones sexuales por si puse qu...</td>\n",
              "      <td>mantengo relaciones sexuales si puse si estable</td>\n",
              "      <td>['mantengo', 'relaciones', 'sexuales', 'si', '...</td>\n",
              "      <td>7</td>\n",
              "      <td>Si</td>\n",
              "      <td>No</td>\n",
              "      <td>Estudiante</td>\n",
              "      <td>Otras personas sin actividad profesional</td>\n",
              "      <td>52.0</td>\n",
              "      <td>163.0</td>\n",
              "      <td>Pareja de hecho</td>\n",
              "      <td>NaN</td>\n",
              "      <td>1-3</td>\n",
              "      <td>Si</td>\n",
              "      <td>Si</td>\n",
              "      <td>Si</td>\n",
              "      <td>Si</td>\n",
              "      <td>Si</td>\n",
              "      <td>Inexistente</td>\n",
              "      <td>No</td>\n",
              "      <td>Si</td>\n",
              "      <td>NaN</td>\n",
              "      <td>NaN</td>\n",
              "      <td>NaN</td>\n",
              "      <td>NaN</td>\n",
              "      <td>Ningún día</td>\n",
              "      <td>Ningún día</td>\n",
              "      <td>Varios días</td>\n",
              "      <td>Más de la mitad de los días</td>\n",
              "      <td>Ningún día</td>\n",
              "      <td>Ningún día</td>\n",
              "      <td>Ningún día</td>\n",
              "      <td>Ningún día</td>\n",
              "      <td>Ningún día</td>\n",
              "      <td>2.0</td>\n",
              "      <td>NaN</td>\n",
              "      <td>NaN</td>\n",
              "      <td>0.0</td>\n",
              "      <td>No IR A DT10</td>\n",
              "      <td>NaN</td>\n",
              "      <td>NaN</td>\n",
              "      <td>NaN</td>\n",
              "      <td>NaN</td>\n",
              "      <td>NaN</td>\n",
              "      <td>NaN</td>\n",
              "      <td>NaN</td>\n",
              "      <td>NaN</td>\n",
              "      <td>NaN</td>\n",
              "      <td>NaN</td>\n",
              "      <td>NaN</td>\n",
              "      <td>NaN</td>\n",
              "      <td>NaN</td>\n",
              "      <td>NaN</td>\n",
              "      <td>NaN</td>\n",
              "      <td>NaN</td>\n",
              "      <td>No bebió durante los últimos 12 meses</td>\n",
              "      <td>1 ó 2</td>\n",
              "      <td>Nunca</td>\n",
              "      <td>No</td>\n",
              "      <td>No</td>\n",
              "      <td>No</td>\n",
              "      <td>No</td>\n",
              "      <td>No</td>\n",
              "      <td>No</td>\n",
              "      <td>NaN</td>\n",
              "      <td>No</td>\n",
              "      <td>0</td>\n",
              "      <td>30.2</td>\n",
              "      <td>3.0</td>\n",
              "      <td>2.0</td>\n",
              "      <td>NaN</td>\n",
              "      <td>0.0</td>\n",
              "      <td>19.571681</td>\n",
              "    </tr>\n",
              "    <tr>\n",
              "      <th>2</th>\n",
              "      <td>42</td>\n",
              "      <td>5da4ffdb2fc6763c8100aaa4</td>\n",
              "      <td>68177</td>\n",
              "      <td>Necesito dormir más Una beca para no tener que...</td>\n",
              "      <td>necesito dormir beca tener mantener tres famil...</td>\n",
              "      <td>['necesito', 'dormir', 'beca', 'tener', 'mante...</td>\n",
              "      <td>11</td>\n",
              "      <td>Si</td>\n",
              "      <td>Si</td>\n",
              "      <td>Estudiante</td>\n",
              "      <td>Profesionista</td>\n",
              "      <td>79.0</td>\n",
              "      <td>NaN</td>\n",
              "      <td>Pareja de hecho</td>\n",
              "      <td>1.0</td>\n",
              "      <td>4-6</td>\n",
              "      <td>NaN</td>\n",
              "      <td>NaN</td>\n",
              "      <td>NaN</td>\n",
              "      <td>NaN</td>\n",
              "      <td>NaN</td>\n",
              "      <td>NaN</td>\n",
              "      <td>No</td>\n",
              "      <td>No</td>\n",
              "      <td>NaN</td>\n",
              "      <td>NaN</td>\n",
              "      <td>NaN</td>\n",
              "      <td>NaN</td>\n",
              "      <td>Varios días</td>\n",
              "      <td>Ningún día</td>\n",
              "      <td>Ningún día</td>\n",
              "      <td>Más de la mitad de los días</td>\n",
              "      <td>Ningún día</td>\n",
              "      <td>Ningún día</td>\n",
              "      <td>Varios días</td>\n",
              "      <td>Varios días</td>\n",
              "      <td>Ningún día</td>\n",
              "      <td>1.0</td>\n",
              "      <td>NaN</td>\n",
              "      <td>NaN</td>\n",
              "      <td>1.0</td>\n",
              "      <td>No IR A DT10</td>\n",
              "      <td>NaN</td>\n",
              "      <td>NaN</td>\n",
              "      <td>NaN</td>\n",
              "      <td>NaN</td>\n",
              "      <td>No</td>\n",
              "      <td>No</td>\n",
              "      <td>NaN</td>\n",
              "      <td>NaN</td>\n",
              "      <td>NaN</td>\n",
              "      <td>NaN</td>\n",
              "      <td>NaN</td>\n",
              "      <td>NaN</td>\n",
              "      <td>NaN</td>\n",
              "      <td>NaN</td>\n",
              "      <td>NaN</td>\n",
              "      <td>NaN</td>\n",
              "      <td>No bebió durante los últimos 12 meses</td>\n",
              "      <td>1 ó 2</td>\n",
              "      <td>Nunca</td>\n",
              "      <td>No</td>\n",
              "      <td>No</td>\n",
              "      <td>No</td>\n",
              "      <td>No</td>\n",
              "      <td>No</td>\n",
              "      <td>No</td>\n",
              "      <td>NaN</td>\n",
              "      <td>No</td>\n",
              "      <td>0</td>\n",
              "      <td>25.6</td>\n",
              "      <td>5.0</td>\n",
              "      <td>2.0</td>\n",
              "      <td>0.0</td>\n",
              "      <td>0.0</td>\n",
              "      <td>NaN</td>\n",
              "    </tr>\n",
              "    <tr>\n",
              "      <th>3</th>\n",
              "      <td>57</td>\n",
              "      <td>5db21a402fc67664a12d0985</td>\n",
              "      <td>71296</td>\n",
              "      <td>yo tengo una vida digamos todo esta leve sin n...</td>\n",
              "      <td>vida digamos leve ningún tipo problema solo al...</td>\n",
              "      <td>['vida', 'digamos', 'leve', 'ningún', 'tipo', ...</td>\n",
              "      <td>18</td>\n",
              "      <td>Si</td>\n",
              "      <td>Si</td>\n",
              "      <td>Estudiante</td>\n",
              "      <td>NaN</td>\n",
              "      <td>NaN</td>\n",
              "      <td>NaN</td>\n",
              "      <td>Solteroa</td>\n",
              "      <td>NaN</td>\n",
              "      <td>Mas de 6</td>\n",
              "      <td>NaN</td>\n",
              "      <td>NaN</td>\n",
              "      <td>NaN</td>\n",
              "      <td>NaN</td>\n",
              "      <td>NaN</td>\n",
              "      <td>NaN</td>\n",
              "      <td>No</td>\n",
              "      <td>No</td>\n",
              "      <td>NaN</td>\n",
              "      <td>NaN</td>\n",
              "      <td>NaN</td>\n",
              "      <td>NaN</td>\n",
              "      <td>Más de la mitad de los días</td>\n",
              "      <td>Más de la mitad de los días</td>\n",
              "      <td>Más de la mitad de los días</td>\n",
              "      <td>Más de la mitad de los días</td>\n",
              "      <td>Más de la mitad de los días</td>\n",
              "      <td>Más de la mitad de los días</td>\n",
              "      <td>Más de la mitad de los días</td>\n",
              "      <td>Más de la mitad de los días</td>\n",
              "      <td>Más de la mitad de los días</td>\n",
              "      <td>2.0</td>\n",
              "      <td>NaN</td>\n",
              "      <td>NaN</td>\n",
              "      <td>2.0</td>\n",
              "      <td>No IR A DT10</td>\n",
              "      <td>NaN</td>\n",
              "      <td>NaN</td>\n",
              "      <td>NaN</td>\n",
              "      <td>NaN</td>\n",
              "      <td>NaN</td>\n",
              "      <td>NaN</td>\n",
              "      <td>NaN</td>\n",
              "      <td>NaN</td>\n",
              "      <td>NaN</td>\n",
              "      <td>NaN</td>\n",
              "      <td>NaN</td>\n",
              "      <td>NaN</td>\n",
              "      <td>NaN</td>\n",
              "      <td>NaN</td>\n",
              "      <td>NaN</td>\n",
              "      <td>NaN</td>\n",
              "      <td>NaN</td>\n",
              "      <td>NaN</td>\n",
              "      <td>NaN</td>\n",
              "      <td>No</td>\n",
              "      <td>No</td>\n",
              "      <td>No</td>\n",
              "      <td>No</td>\n",
              "      <td>No</td>\n",
              "      <td>No</td>\n",
              "      <td>NaN</td>\n",
              "      <td>No</td>\n",
              "      <td>0</td>\n",
              "      <td>51.4</td>\n",
              "      <td>18.0</td>\n",
              "      <td>4.0</td>\n",
              "      <td>NaN</td>\n",
              "      <td>NaN</td>\n",
              "      <td>NaN</td>\n",
              "    </tr>\n",
              "    <tr>\n",
              "      <th>4</th>\n",
              "      <td>58</td>\n",
              "      <td>5dcdfb2e2fc676288766f05c</td>\n",
              "      <td>78965</td>\n",
              "      <td>yo tengo un problema desde hace mucho tiempo p...</td>\n",
              "      <td>problema hace tiempo actualmente tratando tera...</td>\n",
              "      <td>['problema', 'hace', 'tiempo', 'actualmente', ...</td>\n",
              "      <td>7</td>\n",
              "      <td>Si</td>\n",
              "      <td>Si</td>\n",
              "      <td>Estudiante</td>\n",
              "      <td>Otras personas sin actividad profesional</td>\n",
              "      <td>111.0</td>\n",
              "      <td>NaN</td>\n",
              "      <td>Solteroa</td>\n",
              "      <td>NaN</td>\n",
              "      <td>4-6</td>\n",
              "      <td>Si</td>\n",
              "      <td>No</td>\n",
              "      <td>No</td>\n",
              "      <td>No</td>\n",
              "      <td>No</td>\n",
              "      <td>Poco frecuente</td>\n",
              "      <td>No</td>\n",
              "      <td>Si</td>\n",
              "      <td>NaN</td>\n",
              "      <td>NaN</td>\n",
              "      <td>NaN</td>\n",
              "      <td>NaN</td>\n",
              "      <td>Más de la mitad de los días</td>\n",
              "      <td>Más de la mitad de los días</td>\n",
              "      <td>Varios días</td>\n",
              "      <td>Ningún día</td>\n",
              "      <td>Casi todos los días</td>\n",
              "      <td>Casi todos los días</td>\n",
              "      <td>Casi todos los días</td>\n",
              "      <td>Casi todos los días</td>\n",
              "      <td>Más de la mitad de los días</td>\n",
              "      <td>3.0</td>\n",
              "      <td>NaN</td>\n",
              "      <td>NaN</td>\n",
              "      <td>0.0</td>\n",
              "      <td>Si</td>\n",
              "      <td>No</td>\n",
              "      <td>Si</td>\n",
              "      <td>No</td>\n",
              "      <td>No</td>\n",
              "      <td>No</td>\n",
              "      <td>No</td>\n",
              "      <td>Si</td>\n",
              "      <td>No</td>\n",
              "      <td>No</td>\n",
              "      <td>Si</td>\n",
              "      <td>No</td>\n",
              "      <td>No</td>\n",
              "      <td>No</td>\n",
              "      <td>Si</td>\n",
              "      <td>Si</td>\n",
              "      <td>No</td>\n",
              "      <td>Una vez por semana</td>\n",
              "      <td>10 o más</td>\n",
              "      <td>Una vez por semana</td>\n",
              "      <td>Si</td>\n",
              "      <td>Si</td>\n",
              "      <td>No</td>\n",
              "      <td>No</td>\n",
              "      <td>No</td>\n",
              "      <td>Si</td>\n",
              "      <td>No</td>\n",
              "      <td>Si</td>\n",
              "      <td>0</td>\n",
              "      <td>27.6</td>\n",
              "      <td>19.0</td>\n",
              "      <td>3.0</td>\n",
              "      <td>1.0</td>\n",
              "      <td>10.0</td>\n",
              "      <td>NaN</td>\n",
              "    </tr>\n",
              "    <tr>\n",
              "      <th>5</th>\n",
              "      <td>59</td>\n",
              "      <td>5dd562432fc67620801817f6</td>\n",
              "      <td>80409</td>\n",
              "      <td>yo sólo quiero saber por qué nos hacen tantas ...</td>\n",
              "      <td>sólo quiero saber hacen tantas preguntas extrañas</td>\n",
              "      <td>['sólo', 'quiero', 'saber', 'hacen', 'tantas',...</td>\n",
              "      <td>7</td>\n",
              "      <td>Si</td>\n",
              "      <td>No</td>\n",
              "      <td>Estudiante</td>\n",
              "      <td>Empleadoa</td>\n",
              "      <td>52.0</td>\n",
              "      <td>168.0</td>\n",
              "      <td>Solteroa</td>\n",
              "      <td>0.0</td>\n",
              "      <td>4-6</td>\n",
              "      <td>Si</td>\n",
              "      <td>Si</td>\n",
              "      <td>Si</td>\n",
              "      <td>Si</td>\n",
              "      <td>Si</td>\n",
              "      <td>Frecuente</td>\n",
              "      <td>No</td>\n",
              "      <td>No</td>\n",
              "      <td>NaN</td>\n",
              "      <td>NaN</td>\n",
              "      <td>NaN</td>\n",
              "      <td>NaN</td>\n",
              "      <td>Varios días</td>\n",
              "      <td>Ningún día</td>\n",
              "      <td>Ningún día</td>\n",
              "      <td>Ningún día</td>\n",
              "      <td>Ningún día</td>\n",
              "      <td>Ningún día</td>\n",
              "      <td>Ningún día</td>\n",
              "      <td>Ningún día</td>\n",
              "      <td>Ningún día</td>\n",
              "      <td>1.0</td>\n",
              "      <td>NaN</td>\n",
              "      <td>NaN</td>\n",
              "      <td>0.0</td>\n",
              "      <td>No IR A DT10</td>\n",
              "      <td>NaN</td>\n",
              "      <td>NaN</td>\n",
              "      <td>NaN</td>\n",
              "      <td>NaN</td>\n",
              "      <td>NaN</td>\n",
              "      <td>NaN</td>\n",
              "      <td>NaN</td>\n",
              "      <td>NaN</td>\n",
              "      <td>NaN</td>\n",
              "      <td>NaN</td>\n",
              "      <td>NaN</td>\n",
              "      <td>NaN</td>\n",
              "      <td>NaN</td>\n",
              "      <td>NaN</td>\n",
              "      <td>NaN</td>\n",
              "      <td>NaN</td>\n",
              "      <td>No bebió durante los últimos 12 meses</td>\n",
              "      <td>1 ó 2</td>\n",
              "      <td>Nunca</td>\n",
              "      <td>No</td>\n",
              "      <td>No</td>\n",
              "      <td>No</td>\n",
              "      <td>No</td>\n",
              "      <td>No</td>\n",
              "      <td>No</td>\n",
              "      <td>NaN</td>\n",
              "      <td>No</td>\n",
              "      <td>0</td>\n",
              "      <td>28.2</td>\n",
              "      <td>1.0</td>\n",
              "      <td>1.0</td>\n",
              "      <td>NaN</td>\n",
              "      <td>0.0</td>\n",
              "      <td>18.424036</td>\n",
              "    </tr>\n",
              "    <tr>\n",
              "      <th>6</th>\n",
              "      <td>60</td>\n",
              "      <td>5e4ada77aeafed4e1314266b</td>\n",
              "      <td>84721</td>\n",
              "      <td>yo recomiendo mucho esta aplicación para todas...</td>\n",
              "      <td>recomiendo aplicación todas aquellas personas ...</td>\n",
              "      <td>['recomiendo', 'aplicación', 'todas', 'aquella...</td>\n",
              "      <td>26</td>\n",
              "      <td>Si</td>\n",
              "      <td>No</td>\n",
              "      <td>Estudiante</td>\n",
              "      <td>Otras personas sin actividad profesional</td>\n",
              "      <td>58.0</td>\n",
              "      <td>145.0</td>\n",
              "      <td>Solteroa</td>\n",
              "      <td>0.0</td>\n",
              "      <td>1-3</td>\n",
              "      <td>No</td>\n",
              "      <td>No</td>\n",
              "      <td>Si</td>\n",
              "      <td>No</td>\n",
              "      <td>No</td>\n",
              "      <td>Frecuente</td>\n",
              "      <td>No</td>\n",
              "      <td>No</td>\n",
              "      <td>0 a 30 minutos</td>\n",
              "      <td>más de dos horas</td>\n",
              "      <td>No</td>\n",
              "      <td>NaN</td>\n",
              "      <td>Ningún día</td>\n",
              "      <td>Ningún día</td>\n",
              "      <td>Ningún día</td>\n",
              "      <td>Ningún día</td>\n",
              "      <td>Ningún día</td>\n",
              "      <td>Ningún día</td>\n",
              "      <td>Ningún día</td>\n",
              "      <td>Ningún día</td>\n",
              "      <td>Ningún día</td>\n",
              "      <td>0.0</td>\n",
              "      <td>0.0</td>\n",
              "      <td>0.0</td>\n",
              "      <td>0.0</td>\n",
              "      <td>No IR A DT10</td>\n",
              "      <td>NaN</td>\n",
              "      <td>NaN</td>\n",
              "      <td>NaN</td>\n",
              "      <td>NaN</td>\n",
              "      <td>NaN</td>\n",
              "      <td>NaN</td>\n",
              "      <td>NaN</td>\n",
              "      <td>NaN</td>\n",
              "      <td>NaN</td>\n",
              "      <td>NaN</td>\n",
              "      <td>NaN</td>\n",
              "      <td>NaN</td>\n",
              "      <td>NaN</td>\n",
              "      <td>NaN</td>\n",
              "      <td>NaN</td>\n",
              "      <td>NaN</td>\n",
              "      <td>NaN</td>\n",
              "      <td>NaN</td>\n",
              "      <td>NaN</td>\n",
              "      <td>No</td>\n",
              "      <td>No</td>\n",
              "      <td>No</td>\n",
              "      <td>No</td>\n",
              "      <td>No</td>\n",
              "      <td>No</td>\n",
              "      <td>NaN</td>\n",
              "      <td>No</td>\n",
              "      <td>0</td>\n",
              "      <td>84.2</td>\n",
              "      <td>0.0</td>\n",
              "      <td>0.0</td>\n",
              "      <td>NaN</td>\n",
              "      <td>NaN</td>\n",
              "      <td>27.586207</td>\n",
              "    </tr>\n",
              "    <tr>\n",
              "      <th>7</th>\n",
              "      <td>61</td>\n",
              "      <td>5db0814f2fc6761df74d638a</td>\n",
              "      <td>70517</td>\n",
              "      <td>YO PIENSO QUE LA ENCUESTA ESTA BIEN PORQUE ASÍ...</td>\n",
              "      <td>pienso encuesta bien así pueden evitar suicidi...</td>\n",
              "      <td>['pienso', 'encuesta', 'bien', 'así', 'pueden'...</td>\n",
              "      <td>29</td>\n",
              "      <td>Si</td>\n",
              "      <td>Si</td>\n",
              "      <td>Estudiante</td>\n",
              "      <td>Otras personas sin actividad profesional</td>\n",
              "      <td>NaN</td>\n",
              "      <td>160.0</td>\n",
              "      <td>Solteroa</td>\n",
              "      <td>NaN</td>\n",
              "      <td>NaN</td>\n",
              "      <td>NaN</td>\n",
              "      <td>NaN</td>\n",
              "      <td>NaN</td>\n",
              "      <td>NaN</td>\n",
              "      <td>NaN</td>\n",
              "      <td>NaN</td>\n",
              "      <td>No</td>\n",
              "      <td>Si</td>\n",
              "      <td>NaN</td>\n",
              "      <td>NaN</td>\n",
              "      <td>NaN</td>\n",
              "      <td>NaN</td>\n",
              "      <td>Más de la mitad de los días</td>\n",
              "      <td>Varios días</td>\n",
              "      <td>Ningún día</td>\n",
              "      <td>Varios días</td>\n",
              "      <td>Ningún día</td>\n",
              "      <td>Ningún día</td>\n",
              "      <td>Varios días</td>\n",
              "      <td>NaN</td>\n",
              "      <td>NaN</td>\n",
              "      <td>2.0</td>\n",
              "      <td>NaN</td>\n",
              "      <td>NaN</td>\n",
              "      <td>1.0</td>\n",
              "      <td>Si</td>\n",
              "      <td>NaN</td>\n",
              "      <td>NaN</td>\n",
              "      <td>NaN</td>\n",
              "      <td>NaN</td>\n",
              "      <td>No</td>\n",
              "      <td>NaN</td>\n",
              "      <td>NaN</td>\n",
              "      <td>NaN</td>\n",
              "      <td>NaN</td>\n",
              "      <td>NaN</td>\n",
              "      <td>NaN</td>\n",
              "      <td>NaN</td>\n",
              "      <td>NaN</td>\n",
              "      <td>NaN</td>\n",
              "      <td>NaN</td>\n",
              "      <td>NaN</td>\n",
              "      <td>No bebió durante los últimos 12 meses</td>\n",
              "      <td>1 ó 2</td>\n",
              "      <td>Nunca</td>\n",
              "      <td>Si</td>\n",
              "      <td>No</td>\n",
              "      <td>No</td>\n",
              "      <td>No</td>\n",
              "      <td>No</td>\n",
              "      <td>Si</td>\n",
              "      <td>No</td>\n",
              "      <td>No</td>\n",
              "      <td>0</td>\n",
              "      <td>NaN</td>\n",
              "      <td>NaN</td>\n",
              "      <td>3.0</td>\n",
              "      <td>NaN</td>\n",
              "      <td>0.0</td>\n",
              "      <td>NaN</td>\n",
              "    </tr>\n",
              "    <tr>\n",
              "      <th>8</th>\n",
              "      <td>62</td>\n",
              "      <td>5dceb6b22fc6765156299cba</td>\n",
              "      <td>79102</td>\n",
              "      <td>YO PIENSO QUE ESTÁ BIEN ESTE TIPO DE ENCUESTAS...</td>\n",
              "      <td>pienso bien tipo encuestas debido muchas cosas...</td>\n",
              "      <td>['pienso', 'bien', 'tipo', 'encuestas', 'debid...</td>\n",
              "      <td>22</td>\n",
              "      <td>Si</td>\n",
              "      <td>Si</td>\n",
              "      <td>Estudiante</td>\n",
              "      <td>Otras personas sin actividad profesional</td>\n",
              "      <td>60.0</td>\n",
              "      <td>160.0</td>\n",
              "      <td>Solteroa</td>\n",
              "      <td>0.0</td>\n",
              "      <td>4-6</td>\n",
              "      <td>Si</td>\n",
              "      <td>No</td>\n",
              "      <td>Si</td>\n",
              "      <td>Si</td>\n",
              "      <td>No</td>\n",
              "      <td>Poco frecuente</td>\n",
              "      <td>No</td>\n",
              "      <td>Si</td>\n",
              "      <td>NaN</td>\n",
              "      <td>NaN</td>\n",
              "      <td>NaN</td>\n",
              "      <td>NaN</td>\n",
              "      <td>Varios días</td>\n",
              "      <td>Varios días</td>\n",
              "      <td>Casi todos los días</td>\n",
              "      <td>Más de la mitad de los días</td>\n",
              "      <td>Ningún día</td>\n",
              "      <td>Más de la mitad de los días</td>\n",
              "      <td>Casi todos los días</td>\n",
              "      <td>Más de la mitad de los días</td>\n",
              "      <td>Varios días</td>\n",
              "      <td>3.0</td>\n",
              "      <td>NaN</td>\n",
              "      <td>NaN</td>\n",
              "      <td>2.0</td>\n",
              "      <td>Si</td>\n",
              "      <td>No</td>\n",
              "      <td>No</td>\n",
              "      <td>No</td>\n",
              "      <td>Si</td>\n",
              "      <td>Si</td>\n",
              "      <td>Si</td>\n",
              "      <td>No</td>\n",
              "      <td>No</td>\n",
              "      <td>No</td>\n",
              "      <td>NaN</td>\n",
              "      <td>NaN</td>\n",
              "      <td>NaN</td>\n",
              "      <td>NaN</td>\n",
              "      <td>NaN</td>\n",
              "      <td>NaN</td>\n",
              "      <td>NaN</td>\n",
              "      <td>Menos de una vez al mes</td>\n",
              "      <td>5 ó 6</td>\n",
              "      <td>Una vez al mes</td>\n",
              "      <td>Si</td>\n",
              "      <td>Si</td>\n",
              "      <td>No</td>\n",
              "      <td>Si</td>\n",
              "      <td>No</td>\n",
              "      <td>No</td>\n",
              "      <td>NaN</td>\n",
              "      <td>No</td>\n",
              "      <td>0</td>\n",
              "      <td>26.8</td>\n",
              "      <td>15.0</td>\n",
              "      <td>5.0</td>\n",
              "      <td>3.0</td>\n",
              "      <td>5.0</td>\n",
              "      <td>23.437500</td>\n",
              "    </tr>\n",
              "    <tr>\n",
              "      <th>9</th>\n",
              "      <td>63</td>\n",
              "      <td>5e4c2a8d1e5e39593476d23c</td>\n",
              "      <td>84847</td>\n",
              "      <td>yo pienso que está bien este pequeño cuestiona...</td>\n",
              "      <td>pienso bien pequeño cuestionario hace reflexio...</td>\n",
              "      <td>['pienso', 'bien', 'pequeño', 'cuestionario', ...</td>\n",
              "      <td>7</td>\n",
              "      <td>Si</td>\n",
              "      <td>No</td>\n",
              "      <td>Estudiante</td>\n",
              "      <td>Artesanos, comerciantes o empresarios</td>\n",
              "      <td>55.0</td>\n",
              "      <td>160.0</td>\n",
              "      <td>Solteroa</td>\n",
              "      <td>0.0</td>\n",
              "      <td>Mas de 6</td>\n",
              "      <td>No</td>\n",
              "      <td>No</td>\n",
              "      <td>No</td>\n",
              "      <td>Si</td>\n",
              "      <td>No</td>\n",
              "      <td>Inexistente</td>\n",
              "      <td>No</td>\n",
              "      <td>No</td>\n",
              "      <td>0 a 30 minutos</td>\n",
              "      <td>0 a 30 minutos</td>\n",
              "      <td>No</td>\n",
              "      <td>48.0</td>\n",
              "      <td>Varios días</td>\n",
              "      <td>Varios días</td>\n",
              "      <td>Ningún día</td>\n",
              "      <td>Ningún día</td>\n",
              "      <td>Ningún día</td>\n",
              "      <td>Ningún día</td>\n",
              "      <td>Ningún día</td>\n",
              "      <td>Ningún día</td>\n",
              "      <td>Ningún día</td>\n",
              "      <td>NaN</td>\n",
              "      <td>NaN</td>\n",
              "      <td>NaN</td>\n",
              "      <td>NaN</td>\n",
              "      <td>No IR A DT10</td>\n",
              "      <td>NaN</td>\n",
              "      <td>NaN</td>\n",
              "      <td>NaN</td>\n",
              "      <td>NaN</td>\n",
              "      <td>NaN</td>\n",
              "      <td>NaN</td>\n",
              "      <td>NaN</td>\n",
              "      <td>NaN</td>\n",
              "      <td>NaN</td>\n",
              "      <td>NaN</td>\n",
              "      <td>NaN</td>\n",
              "      <td>NaN</td>\n",
              "      <td>NaN</td>\n",
              "      <td>NaN</td>\n",
              "      <td>NaN</td>\n",
              "      <td>NaN</td>\n",
              "      <td>NaN</td>\n",
              "      <td>NaN</td>\n",
              "      <td>NaN</td>\n",
              "      <td>No</td>\n",
              "      <td>No</td>\n",
              "      <td>No</td>\n",
              "      <td>No</td>\n",
              "      <td>No</td>\n",
              "      <td>No</td>\n",
              "      <td>NaN</td>\n",
              "      <td>No</td>\n",
              "      <td>0</td>\n",
              "      <td>64.8</td>\n",
              "      <td>2.0</td>\n",
              "      <td>NaN</td>\n",
              "      <td>NaN</td>\n",
              "      <td>NaN</td>\n",
              "      <td>21.484375</td>\n",
              "    </tr>\n",
              "  </tbody>\n",
              "</table>\n",
              "</div>\n",
              "      <button class=\"colab-df-convert\" onclick=\"convertToInteractive('df-99203388-477b-4da8-98d0-02d13f8d3a80')\"\n",
              "              title=\"Convert this dataframe to an interactive table.\"\n",
              "              style=\"display:none;\">\n",
              "        \n",
              "  <svg xmlns=\"http://www.w3.org/2000/svg\" height=\"24px\"viewBox=\"0 0 24 24\"\n",
              "       width=\"24px\">\n",
              "    <path d=\"M0 0h24v24H0V0z\" fill=\"none\"/>\n",
              "    <path d=\"M18.56 5.44l.94 2.06.94-2.06 2.06-.94-2.06-.94-.94-2.06-.94 2.06-2.06.94zm-11 1L8.5 8.5l.94-2.06 2.06-.94-2.06-.94L8.5 2.5l-.94 2.06-2.06.94zm10 10l.94 2.06.94-2.06 2.06-.94-2.06-.94-.94-2.06-.94 2.06-2.06.94z\"/><path d=\"M17.41 7.96l-1.37-1.37c-.4-.4-.92-.59-1.43-.59-.52 0-1.04.2-1.43.59L10.3 9.45l-7.72 7.72c-.78.78-.78 2.05 0 2.83L4 21.41c.39.39.9.59 1.41.59.51 0 1.02-.2 1.41-.59l7.78-7.78 2.81-2.81c.8-.78.8-2.07 0-2.86zM5.41 20L4 18.59l7.72-7.72 1.47 1.35L5.41 20z\"/>\n",
              "  </svg>\n",
              "      </button>\n",
              "      \n",
              "  <style>\n",
              "    .colab-df-container {\n",
              "      display:flex;\n",
              "      flex-wrap:wrap;\n",
              "      gap: 12px;\n",
              "    }\n",
              "\n",
              "    .colab-df-convert {\n",
              "      background-color: #E8F0FE;\n",
              "      border: none;\n",
              "      border-radius: 50%;\n",
              "      cursor: pointer;\n",
              "      display: none;\n",
              "      fill: #1967D2;\n",
              "      height: 32px;\n",
              "      padding: 0 0 0 0;\n",
              "      width: 32px;\n",
              "    }\n",
              "\n",
              "    .colab-df-convert:hover {\n",
              "      background-color: #E2EBFA;\n",
              "      box-shadow: 0px 1px 2px rgba(60, 64, 67, 0.3), 0px 1px 3px 1px rgba(60, 64, 67, 0.15);\n",
              "      fill: #174EA6;\n",
              "    }\n",
              "\n",
              "    [theme=dark] .colab-df-convert {\n",
              "      background-color: #3B4455;\n",
              "      fill: #D2E3FC;\n",
              "    }\n",
              "\n",
              "    [theme=dark] .colab-df-convert:hover {\n",
              "      background-color: #434B5C;\n",
              "      box-shadow: 0px 1px 3px 1px rgba(0, 0, 0, 0.15);\n",
              "      filter: drop-shadow(0px 1px 2px rgba(0, 0, 0, 0.3));\n",
              "      fill: #FFFFFF;\n",
              "    }\n",
              "  </style>\n",
              "\n",
              "      <script>\n",
              "        const buttonEl =\n",
              "          document.querySelector('#df-99203388-477b-4da8-98d0-02d13f8d3a80 button.colab-df-convert');\n",
              "        buttonEl.style.display =\n",
              "          google.colab.kernel.accessAllowed ? 'block' : 'none';\n",
              "\n",
              "        async function convertToInteractive(key) {\n",
              "          const element = document.querySelector('#df-99203388-477b-4da8-98d0-02d13f8d3a80');\n",
              "          const dataTable =\n",
              "            await google.colab.kernel.invokeFunction('convertToInteractive',\n",
              "                                                     [key], {});\n",
              "          if (!dataTable) return;\n",
              "\n",
              "          const docLinkHtml = 'Like what you see? Visit the ' +\n",
              "            '<a target=\"_blank\" href=https://colab.research.google.com/notebooks/data_table.ipynb>data table notebook</a>'\n",
              "            + ' to learn more about interactive tables.';\n",
              "          element.innerHTML = '';\n",
              "          dataTable['output_type'] = 'display_data';\n",
              "          await google.colab.output.renderOutput(dataTable, element);\n",
              "          const docLink = document.createElement('div');\n",
              "          docLink.innerHTML = docLinkHtml;\n",
              "          element.appendChild(docLink);\n",
              "        }\n",
              "      </script>\n",
              "    </div>\n",
              "  </div>\n",
              "  "
            ],
            "text/plain": [
              "   Unnamed: 0           Exc_register_id  ...  T_ALC        BMI\n",
              "0          28  5d9f38c92fc67657d35eabf4  ...    1.0  24.755556\n",
              "1          39  5dcd652e2fc6762322259bd3  ...    0.0  19.571681\n",
              "2          42  5da4ffdb2fc6763c8100aaa4  ...    0.0        NaN\n",
              "3          57  5db21a402fc67664a12d0985  ...    NaN        NaN\n",
              "4          58  5dcdfb2e2fc676288766f05c  ...   10.0        NaN\n",
              "5          59  5dd562432fc67620801817f6  ...    0.0  18.424036\n",
              "6          60  5e4ada77aeafed4e1314266b  ...    NaN  27.586207\n",
              "7          61  5db0814f2fc6761df74d638a  ...    0.0        NaN\n",
              "8          62  5dceb6b22fc6765156299cba  ...    5.0  23.437500\n",
              "9          63  5e4c2a8d1e5e39593476d23c  ...    NaN  21.484375\n",
              "\n",
              "[10 rows x 76 columns]"
            ]
          },
          "metadata": {},
          "execution_count": 3
        }
      ],
      "source": [
        "df = pd.read_excel('DATA/corpus2.xlsx')\n",
        "\n",
        "text_col_name = \"TEXTO_SIN_STOPWORDS\"\n",
        "\n",
        "df.head(10)"
      ]
    },
    {
      "cell_type": "markdown",
      "source": [
        "Ver los nombres de las columnas"
      ],
      "metadata": {
        "id": "Jf6rxYLnKDtQ"
      }
    },
    {
      "cell_type": "code",
      "source": [
        "df.columns.to_list()"
      ],
      "metadata": {
        "colab": {
          "base_uri": "https://localhost:8080/"
        },
        "id": "K1Q9No9ZJhQz",
        "outputId": "d54aa8ec-effe-4895-a2c8-fcf19b738bc3"
      },
      "execution_count": 5,
      "outputs": [
        {
          "output_type": "execute_result",
          "data": {
            "text/plain": [
              "['Unnamed: 0',\n",
              " 'Exc_register_id',\n",
              " 'Exc_patientCenter_id',\n",
              " 'Exc_texto_relleno',\n",
              " 'TEXTO_SIN_STOPWORDS',\n",
              " 'texto_tokenizado',\n",
              " 'Num_palabras',\n",
              " 'Mexico02',\n",
              " 'Mexico01',\n",
              " 'CurrentActivity',\n",
              " 'Prof',\n",
              " 'Weight',\n",
              " 'Size',\n",
              " 'FamStatus',\n",
              " 'NumberChildren',\n",
              " 'Mexico06',\n",
              " '@1_A',\n",
              " '@2_A',\n",
              " '@3_A',\n",
              " '@4_A',\n",
              " '@5_A',\n",
              " 'Mexico10',\n",
              " 'Bariatrica02',\n",
              " 'TerMedicamentos05',\n",
              " 'Mexico11',\n",
              " 'Mexico12',\n",
              " 'Mexico18',\n",
              " 'Mexico13',\n",
              " 'PHQ01',\n",
              " 'PHQ02',\n",
              " 'PHQ03',\n",
              " 'PHQ04',\n",
              " 'PHQ05',\n",
              " 'PHQ06',\n",
              " 'PHQ07',\n",
              " 'PHQ08',\n",
              " 'PHQ09',\n",
              " 'Gad01Last2week',\n",
              " 'Gad02Last2week',\n",
              " 'Gad05Last2week',\n",
              " 'Gad07Last2week',\n",
              " 'DAST01',\n",
              " 'DAST02',\n",
              " 'DAST03',\n",
              " 'DAST04',\n",
              " 'DAST05',\n",
              " 'DAST06',\n",
              " 'DAST07',\n",
              " 'DAST08',\n",
              " 'DAST09',\n",
              " 'DAST10',\n",
              " '@1',\n",
              " '@2',\n",
              " '@3',\n",
              " '@4',\n",
              " '@5',\n",
              " '@6',\n",
              " 'Cannabis',\n",
              " 'ALCA01',\n",
              " 'ALCA02',\n",
              " 'ALCA03',\n",
              " 'CSSRS01',\n",
              " 'CSSRS02',\n",
              " 'CSSRS03',\n",
              " 'CSSRS04',\n",
              " 'CSSRS05',\n",
              " 'CSSRS06',\n",
              " 'CSSRS07',\n",
              " 'NSSIIS01B_Sometimes',\n",
              " 'NSSIIS01B_Last_Month_nb',\n",
              " 'T_WHODAS',\n",
              " 'T_PHQ_9',\n",
              " 'T_GAD_2',\n",
              " 'T_DAST',\n",
              " 'T_ALC',\n",
              " 'BMI']"
            ]
          },
          "metadata": {},
          "execution_count": 5
        }
      ]
    },
    {
      "cell_type": "markdown",
      "metadata": {
        "id": "PdTiYhbkJH9Y"
      },
      "source": [
        "Escoger una columna de etiquetas"
      ]
    },
    {
      "cell_type": "code",
      "execution_count": 11,
      "metadata": {
        "id": "5EKa9VmEJH9Z"
      },
      "outputs": [],
      "source": [
        "label_col_name = \"CSSRS06\""
      ]
    },
    {
      "cell_type": "markdown",
      "source": [
        "Revisar qué tipo de valores tiene la columna"
      ],
      "metadata": {
        "id": "oQxI2Px1KHPZ"
      }
    },
    {
      "cell_type": "code",
      "source": [
        "df[label_col_name].dtypes"
      ],
      "metadata": {
        "colab": {
          "base_uri": "https://localhost:8080/"
        },
        "id": "290XCngwKL-o",
        "outputId": "00367bd7-c9dc-49d3-8899-eee3079cc8bb"
      },
      "execution_count": 12,
      "outputs": [
        {
          "output_type": "execute_result",
          "data": {
            "text/plain": [
              "dtype('O')"
            ]
          },
          "metadata": {},
          "execution_count": 12
        }
      ]
    },
    {
      "cell_type": "code",
      "source": [
        "df[label_col_name].values[:10]"
      ],
      "metadata": {
        "colab": {
          "base_uri": "https://localhost:8080/"
        },
        "id": "riIboW6SLmUI",
        "outputId": "cbe30b64-2ff3-4a7e-d22a-d3d803472643"
      },
      "execution_count": 13,
      "outputs": [
        {
          "output_type": "execute_result",
          "data": {
            "text/plain": [
              "array(['Si', 'No', 'No', 'No', 'Si', 'No', 'No', 'Si', 'No', 'No'],\n",
              "      dtype=object)"
            ]
          },
          "metadata": {},
          "execution_count": 13
        }
      ]
    },
    {
      "cell_type": "markdown",
      "metadata": {
        "id": "_3DEo7ffJH9Z"
      },
      "source": [
        "Eliminar las columnas sin etiqueta"
      ]
    },
    {
      "cell_type": "code",
      "execution_count": null,
      "metadata": {
        "id": "u23yNehWJH9a"
      },
      "outputs": [],
      "source": [
        "df.dropna(subset=[label_col_name],inplace=True)\n",
        "df.reset_index(drop=True,inplace=True)"
      ]
    },
    {
      "cell_type": "markdown",
      "metadata": {
        "id": "qo4TVTmjJH9a"
      },
      "source": [
        "Información de las etiquetas de los mensajes"
      ]
    },
    {
      "cell_type": "code",
      "execution_count": null,
      "metadata": {
        "id": "PT5_TpA2JH9b",
        "outputId": "a579f8f2-c210-44d0-fde5-30628836a530"
      },
      "outputs": [
        {
          "name": "stdout",
          "output_type": "stream",
          "text": [
            "Hay 7 etiquetas:\n",
            " [0. 1. 2. 3. 4. 5. 6.]\n"
          ]
        }
      ],
      "source": [
        "labels = np.unique(df[label_col_name].values)\n",
        "n_classes = len(labels)\n",
        "print(f\"Hay {n_classes} etiquetas:\\n {labels}\")"
      ]
    },
    {
      "cell_type": "markdown",
      "metadata": {
        "id": "vgafSSm-JH9b"
      },
      "source": [
        "# 1. Obtener palabras prototípicas"
      ]
    },
    {
      "cell_type": "markdown",
      "metadata": {
        "id": "hqCiaWfzJH9d"
      },
      "source": [
        "Puede hacer falta instalar *spacy* y el módelo *es_core_news_sm*:\n",
        "\n",
        "`pip3 install spacy`\n",
        "\n",
        "`python3 -m spacy download es_core_news_sm`"
      ]
    },
    {
      "cell_type": "code",
      "execution_count": null,
      "metadata": {
        "id": "S-XfLrNMJH9d",
        "outputId": "2ac1606b-97df-47ca-f9c6-05c948ce8795"
      },
      "outputs": [
        {
          "name": "stderr",
          "output_type": "stream",
          "text": [
            "2022-02-08 14:47:01.284551: W tensorflow/stream_executor/platform/default/dso_loader.cc:64] Could not load dynamic library 'libcudart.so.11.0'; dlerror: libcudart.so.11.0: cannot open shared object file: No such file or directory\n",
            "2022-02-08 14:47:01.284567: I tensorflow/stream_executor/cuda/cudart_stub.cc:29] Ignore above cudart dlerror if you do not have a GPU set up on your machine.\n"
          ]
        }
      ],
      "source": [
        "from SentimentKW import KW\n",
        "\n",
        "keywords = KW(df,text_col_name=text_col_name, label_col_name=label_col_name)"
      ]
    },
    {
      "cell_type": "code",
      "execution_count": null,
      "metadata": {
        "id": "85C06TcQJH9d",
        "outputId": "071b7f7a-55ee-4911-cf3a-e9400080e4ab"
      },
      "outputs": [
        {
          "data": {
            "text/plain": [
              "[('identificar', -0.1580301397071394),\n",
              " ('positiva', -0.1580301397071394),\n",
              " ('locuras', -0.07177805921331992),\n",
              " ('tener', -0.20987654320880425),\n",
              " ('sentía', -0.3167376438773787),\n",
              " ('malestar', -0.1580301397071394),\n",
              " ('social', -0.22905968425929527),\n",
              " ('machete', 0.2490593339595612),\n",
              " ('deprepa', -0.0763054057085041),\n",
              " ('vive', -0.1580301397071394)]"
            ]
          },
          "execution_count": 7,
          "metadata": {},
          "output_type": "execute_result"
        }
      ],
      "source": [
        "W0 = keywords.get_kw(topn=100)\n",
        "list(W0.items())[:10]"
      ]
    },
    {
      "cell_type": "markdown",
      "metadata": {
        "id": "NKDcLLvsJH9d"
      },
      "source": [
        "# 2. Entrenar modelo de word2vec o FastText"
      ]
    },
    {
      "cell_type": "markdown",
      "metadata": {
        "id": "-RCKBb82JH9e"
      },
      "source": [
        "Word2vec:"
      ]
    },
    {
      "cell_type": "code",
      "execution_count": null,
      "metadata": {
        "id": "ewisnDC8JH9e",
        "outputId": "4a354b78-1258-4cdd-f92b-991e978b5660"
      },
      "outputs": [
        {
          "name": "stdout",
          "output_type": "stream",
          "text": [
            "[['persona', 'hipersensible', 'extremadamente', 'emocional', 'asisto', 'terapia', 'dbt', 'dialectical', 'behavor', 'therapy', 'mejorado', 'manera', 'gradual', 'manejo', 'emociones', 'conductas'], ['mantengo', 'relaciones', 'sexuales', 'si', 'puse', 'si', 'estable']]\n"
          ]
        }
      ],
      "source": [
        "from gensim.models import Word2Vec\n",
        "\n",
        "tokens = [x.split() for x in list(df[text_col_name].values)]\n",
        "print(tokens[:2])\n",
        "\n",
        "dim = 100\n",
        "W2V_model = Word2Vec(tokens, min_count=1, vector_size=dim, workers=4, window=5)\n",
        "W2V_model.save(\"DATA/w2v-TEXTO_SIN_STOPWORDS.model\")"
      ]
    },
    {
      "cell_type": "markdown",
      "metadata": {
        "id": "goqIQ1qTJH9e"
      },
      "source": [
        "También se puede entrenar el módelo en FastText"
      ]
    },
    {
      "cell_type": "code",
      "execution_count": null,
      "metadata": {
        "id": "_s2Ui2B0JH9f"
      },
      "outputs": [],
      "source": [
        "from gensim.models import FastText\n",
        "\n",
        "dim = 100\n",
        "FT_model = FastText(tokens, min_count=1, vector_size=dim, workers=4, window=5)\n",
        "\n",
        "# Genera un archivo más grande\n",
        "# FT_model.save(\"DATA/FT-TEXTO_SIN_STOPWORDS.model\")   "
      ]
    },
    {
      "cell_type": "markdown",
      "metadata": {
        "id": "kt-S6pNvJH9f"
      },
      "source": [
        "# 3. Word Scoring\n",
        "\n",
        "Más información y detalles sobre el uso de esta clase: [https://github.com/labsemco/word-scoring](https://github.com/labsemco/word-scoring)"
      ]
    },
    {
      "cell_type": "markdown",
      "metadata": {
        "id": "TauH5JwLJH9f"
      },
      "source": [
        "Leemos el modelo pre-entrenado que vayamos a usar"
      ]
    },
    {
      "cell_type": "code",
      "execution_count": null,
      "metadata": {
        "id": "3V-DAnO-JH9g"
      },
      "outputs": [],
      "source": [
        "from scoring import Scoring\n",
        "from gensim.models import Word2Vec\n",
        "\n",
        "w2v_model = Word2Vec.load(\"DATA/w2v-TEXTO_SIN_STOPWORDS.model\")\n",
        "\n",
        "puntaje = Scoring(w2vmodel=w2v_model,W0=W0)"
      ]
    },
    {
      "cell_type": "markdown",
      "metadata": {
        "id": "mYqyqdNaJH9g"
      },
      "source": [
        "Si es la primera vez que se ejecuta, o se modificaron los embeddings o palabras prototípicas, correr esta celda:"
      ]
    },
    {
      "cell_type": "code",
      "execution_count": null,
      "metadata": {
        "id": "0gBDe-QLJH9g",
        "outputId": "3a28bdbf-a9f7-48eb-fd49-4e7413a0ee17"
      },
      "outputs": [
        {
          "name": "stdout",
          "output_type": "stream",
          "text": [
            "Neighbors dictionary saved.\n"
          ]
        }
      ],
      "source": [
        "puntaje.build_neighbors(alpha=0.5)\n",
        "\n",
        "puntaje.save_neighbors(\"DATA/vecinos-dict.pickle\")"
      ]
    },
    {
      "cell_type": "markdown",
      "metadata": {
        "id": "aj3nWMTgJH9h"
      },
      "source": [
        "Si no se ha modificado los embeddings o las palabras prototípicas, puede leerse el diccionario de vecinos, para no calcularlo otra vez."
      ]
    },
    {
      "cell_type": "code",
      "execution_count": null,
      "metadata": {
        "id": "tFHL7J8HJH9h"
      },
      "outputs": [],
      "source": [
        "puntaje.load_neighbors(\"DATA/vecinos-dict.pickle\")"
      ]
    },
    {
      "cell_type": "markdown",
      "metadata": {
        "id": "AzTFDSjnJH9h"
      },
      "source": [
        "Calcular el puntaje de palabras"
      ]
    },
    {
      "cell_type": "code",
      "execution_count": null,
      "metadata": {
        "id": "mgo-iVnHJH9h",
        "outputId": "ad790f3e-7d7d-41ef-a4aa-4eb256954405"
      },
      "outputs": [
        {
          "data": {
            "text/html": [
              "<div>\n",
              "<style scoped>\n",
              "    .dataframe tbody tr th:only-of-type {\n",
              "        vertical-align: middle;\n",
              "    }\n",
              "\n",
              "    .dataframe tbody tr th {\n",
              "        vertical-align: top;\n",
              "    }\n",
              "\n",
              "    .dataframe thead th {\n",
              "        text-align: right;\n",
              "    }\n",
              "</style>\n",
              "<table border=\"1\" class=\"dataframe\">\n",
              "  <thead>\n",
              "    <tr style=\"text-align: right;\">\n",
              "      <th></th>\n",
              "      <th>word</th>\n",
              "      <th>score</th>\n",
              "    </tr>\n",
              "  </thead>\n",
              "  <tbody>\n",
              "    <tr>\n",
              "      <th>955</th>\n",
              "      <td>maestro</td>\n",
              "      <td>0.999997</td>\n",
              "    </tr>\n",
              "    <tr>\n",
              "      <th>1382</th>\n",
              "      <td>pánico</td>\n",
              "      <td>0.999993</td>\n",
              "    </tr>\n",
              "    <tr>\n",
              "      <th>2282</th>\n",
              "      <td>comunidades</td>\n",
              "      <td>0.999993</td>\n",
              "    </tr>\n",
              "    <tr>\n",
              "      <th>2105</th>\n",
              "      <td>pase</td>\n",
              "      <td>0.999993</td>\n",
              "    </tr>\n",
              "    <tr>\n",
              "      <th>1877</th>\n",
              "      <td>departamento</td>\n",
              "      <td>0.999993</td>\n",
              "    </tr>\n",
              "    <tr>\n",
              "      <th>...</th>\n",
              "      <td>...</td>\n",
              "      <td>...</td>\n",
              "    </tr>\n",
              "    <tr>\n",
              "      <th>269</th>\n",
              "      <td>adolescentes</td>\n",
              "      <td>-0.548907</td>\n",
              "    </tr>\n",
              "    <tr>\n",
              "      <th>640</th>\n",
              "      <td>ciudad</td>\n",
              "      <td>-0.553531</td>\n",
              "    </tr>\n",
              "    <tr>\n",
              "      <th>855</th>\n",
              "      <td>cuadro</td>\n",
              "      <td>-0.585947</td>\n",
              "    </tr>\n",
              "    <tr>\n",
              "      <th>462</th>\n",
              "      <td>herramienta</td>\n",
              "      <td>-0.619714</td>\n",
              "    </tr>\n",
              "    <tr>\n",
              "      <th>529</th>\n",
              "      <td>felicidad</td>\n",
              "      <td>-0.698362</td>\n",
              "    </tr>\n",
              "  </tbody>\n",
              "</table>\n",
              "<p>2500 rows × 2 columns</p>\n",
              "</div>"
            ],
            "text/plain": [
              "              word     score\n",
              "955        maestro  0.999997\n",
              "1382        pánico  0.999993\n",
              "2282   comunidades  0.999993\n",
              "2105          pase  0.999993\n",
              "1877  departamento  0.999993\n",
              "...            ...       ...\n",
              "269   adolescentes -0.548907\n",
              "640         ciudad -0.553531\n",
              "855         cuadro -0.585947\n",
              "462    herramienta -0.619714\n",
              "529      felicidad -0.698362\n",
              "\n",
              "[2500 rows x 2 columns]"
            ]
          },
          "execution_count": 11,
          "metadata": {},
          "output_type": "execute_result"
        }
      ],
      "source": [
        "scores_df = puntaje.transform(df=df,text_col=text_col_name,label_col=label_col_name,beta1=1,beta2=1)\n",
        "scores_df.sort_values(by='score',ascending=False)"
      ]
    },
    {
      "cell_type": "markdown",
      "metadata": {
        "id": "DxJpi9SkJH9i"
      },
      "source": [
        "# 4. Clasificación"
      ]
    },
    {
      "cell_type": "code",
      "execution_count": null,
      "metadata": {
        "id": "kViRu0l2JH9i"
      },
      "outputs": [],
      "source": [
        "import seaborn as sns\n",
        "\n",
        "def show_confusion_matrix(confusion_matrix):\n",
        "  plt.figure(dpi=120)\n",
        "  hmap = sns.heatmap(confusion_matrix, annot=True, fmt=\"d\", cmap=\"Blues\")\n",
        "  new_xticks =  [str(int(x.get_text())+1) for x in hmap.xaxis.get_ticklabels()]\n",
        "  new_yticks =  [str(int(x.get_text())+1) for x in hmap.yaxis.get_ticklabels()]\n",
        "  hmap.xaxis.set_ticklabels(new_xticks, rotation=0, ha='right')\n",
        "  hmap.yaxis.set_ticklabels(new_yticks, rotation=0, ha='right')\n",
        "  plt.ylabel('True label')\n",
        "  plt.xlabel('Predicted label')\n",
        "  plt.show()"
      ]
    },
    {
      "cell_type": "markdown",
      "metadata": {
        "id": "UzvOHlGFJH9i"
      },
      "source": [
        "## 4.1 Representación de textos usando promedios\n",
        "\n",
        "Obtenemos una matriz de vectores de features representando a cada entidad de texto. Estas representaciones sirven para realizar la clasificación y predicción de etiquetas, usando métodos de *Machine Learning*.\n",
        "\n",
        "Hay tres opciones para probar:\n",
        "\n",
        "* Representación promedio `get_texts_representations_mean()`\n",
        "* Representación promedio parcial `get_texts_representations_Nmean()`\n",
        "* Representación PCA `get_texts_representations_PCA()`"
      ]
    },
    {
      "cell_type": "code",
      "execution_count": null,
      "metadata": {
        "id": "wugWwEIMJH9i",
        "outputId": "64754ddd-c701-4b3f-a7fb-d5ac07f43263"
      },
      "outputs": [
        {
          "data": {
            "text/plain": [
              "array([[ 0.01649833,  0.00087014, -0.04205753,  0.03341715,  0.00188172],\n",
              "       [ 0.02033583, -0.01294002,  0.01220413, -0.00500742, -0.01063542],\n",
              "       [ 0.15574715, -0.05531801,  0.01736549, -0.01367876, -0.00178864]])"
            ]
          },
          "execution_count": 13,
          "metadata": {},
          "output_type": "execute_result"
        }
      ],
      "source": [
        "# Escoger una de las tres:\n",
        "\n",
        "# X = puntaje.get_texts_representations_mean()\n",
        "# X = puntaje.get_texts_representations_Nmean(n=3)\n",
        "X = puntaje.get_texts_representations_PCA()\n",
        "\n",
        "X[:3,:5]"
      ]
    },
    {
      "cell_type": "markdown",
      "metadata": {
        "id": "tXgnIlxRJH9j"
      },
      "source": [
        "La clasificación puede hacerse usando cualquier clasificador (k-nearest neighbors, Naive Bayes, xgboost, etc.). La implementación es similar a esta."
      ]
    },
    {
      "cell_type": "code",
      "execution_count": null,
      "metadata": {
        "id": "1XcY7Z1qJH9j",
        "outputId": "9797a759-f550-42bd-8d1b-0391dc60e67a"
      },
      "outputs": [
        {
          "name": "stdout",
          "output_type": "stream",
          "text": [
            "Accuracy: 0.3135593220338983\n",
            "Recall: 0.1796260005978676\n",
            "ROC: 0.5238348058977105\n"
          ]
        },
        {
          "data": {
            "image/png": "[encoded data removed]",
            "text/plain": [
              "<Figure size 720x480 with 2 Axes>"
            ]
          },
          "metadata": {
            "needs_background": "light"
          },
          "output_type": "display_data"
        }
      ],
      "source": [
        "from sklearn.model_selection import train_test_split\n",
        "from sklearn.svm import SVC\n",
        "from sklearn.metrics import accuracy_score,recall_score,multilabel_confusion_matrix, roc_auc_score,confusion_matrix\n",
        "# from keras.utils import to_categorical\n",
        "from tensorflow.keras.utils import to_categorical\n",
        "\n",
        "# Vector de etiquetas\n",
        "y = df[label_col_name].values\n",
        "\n",
        "# Entrenamiento y predicción\n",
        "X_train, X_test, y_train, y_test = train_test_split(X, y, test_size=0.15, random_state=28)\n",
        "svm = SVC(kernel='rbf', C=1)\n",
        "svm_model = svm.fit(X_train,y_train)\n",
        "y_pred = svm_model.predict(X_test)\n",
        "\n",
        "# Obtenemos las métricas de la clasificación\n",
        "accuracy = accuracy_score(y_test, y_pred)\n",
        "recall = recall_score(y_test,y_pred,average='macro')\n",
        "roc = roc_auc_score(to_categorical(y_test, n_classes),\n",
        "                    to_categorical(y_pred, n_classes),\n",
        "                    multi_class=\"ovr\")\n",
        "cm = confusion_matrix(y_test,y_pred)\n",
        "\n",
        "print(f\"Accuracy: {accuracy}\")\n",
        "print(f\"Recall: {recall}\")\n",
        "print(f\"ROC: {roc}\")\n",
        "show_confusion_matrix(cm)\n"
      ]
    },
    {
      "cell_type": "markdown",
      "metadata": {
        "id": "JNNS-u8oJH9k"
      },
      "source": [
        "## 4.2 Representaciones usando matrices y CNN"
      ]
    },
    {
      "cell_type": "markdown",
      "metadata": {
        "id": "G9SwD4l9JH9k"
      },
      "source": [
        "También puede hacerse la clasificación usando una red neuronal convolucional, usando representaciones matriciales de mensajes en lugar de representaciones vectoriales. \n",
        "\n",
        "IMPORTANTE: Necesita la tarjeta gráfica, puede correrse en colab."
      ]
    },
    {
      "cell_type": "code",
      "execution_count": null,
      "metadata": {
        "id": "NIMtVa-TJH9k",
        "outputId": "2d1011dd-75c7-446e-f17c-e742f0713d88"
      },
      "outputs": [
        {
          "name": "stdout",
          "output_type": "stream",
          "text": [
            "X: (781, 100, 5)\n",
            "y: (781,)\n",
            "Train: (530, 100, 5) (530,)\n",
            "Validation: (94, 100, 5) (94,)\n",
            "Test: (157, 100, 5) (157,)\n"
          ]
        }
      ],
      "source": [
        "from sklearn.model_selection import train_test_split\n",
        "\n",
        "X = puntaje.get_texts_representations_MAT(cols_num=5)  # Puede experimentarse con el valor de cols_num, debe ser mayor o igual que 2.\n",
        "y = df[label_col_name].values\n",
        "\n",
        "print(\"X:\",X.shape)\n",
        "print(\"y:\",y.shape)\n",
        "\n",
        "X_train, X_test, y_train, y_test = train_test_split(X, y, test_size=0.2, random_state=28)\n",
        "\n",
        "val_size = int(0.85*X_train.shape[0])\n",
        "X_val = X_train[val_size:]\n",
        "y_val = y_train[val_size:]\n",
        "X_train = X_train[:val_size]\n",
        "y_train = y_train[:val_size]\n",
        "print(\"Train:\",X_train.shape,y_train.shape)\n",
        "print(\"Validation:\",X_val.shape,y_val.shape)\n",
        "print(\"Test:\",X_test.shape,y_test.shape)"
      ]
    },
    {
      "cell_type": "code",
      "execution_count": null,
      "metadata": {
        "id": "eyu8SvhyJH9k",
        "outputId": "94a6b8b8-178f-4046-d6f9-7ce003dc5e78"
      },
      "outputs": [
        {
          "name": "stdout",
          "output_type": "stream",
          "text": [
            "Las representaciones de los mensajes son de 530x100\n"
          ]
        },
        {
          "name": "stderr",
          "output_type": "stream",
          "text": [
            "2022-02-08 14:52:13.702953: W tensorflow/stream_executor/platform/default/dso_loader.cc:64] Could not load dynamic library 'libcuda.so.1'; dlerror: libcuda.so.1: cannot open shared object file: No such file or directory\n",
            "2022-02-08 14:52:13.702977: W tensorflow/stream_executor/cuda/cuda_driver.cc:269] failed call to cuInit: UNKNOWN ERROR (303)\n",
            "2022-02-08 14:52:13.702993: I tensorflow/stream_executor/cuda/cuda_diagnostics.cc:156] kernel driver does not appear to be running on this host (skywalker): /proc/driver/nvidia/version does not exist\n",
            "2022-02-08 14:52:13.703584: I tensorflow/core/platform/cpu_feature_guard.cc:151] This TensorFlow binary is optimized with oneAPI Deep Neural Network Library (oneDNN) to use the following CPU instructions in performance-critical operations:  AVX2 FMA\n",
            "To enable them in other operations, rebuild TensorFlow with the appropriate compiler flags.\n"
          ]
        },
        {
          "name": "stdout",
          "output_type": "stream",
          "text": [
            "Epoch 1/200\n",
            "34/34 [==============================] - 0s 7ms/step - loss: 1.7992 - accuracy: 0.2943 - val_loss: 1.6793 - val_accuracy: 0.2979\n",
            "Epoch 2/200\n",
            "34/34 [==============================] - 0s 4ms/step - loss: 1.6528 - accuracy: 0.3170 - val_loss: 1.6353 - val_accuracy: 0.3511\n",
            "Epoch 3/200\n",
            "34/34 [==============================] - 0s 4ms/step - loss: 1.5967 - accuracy: 0.3358 - val_loss: 1.6038 - val_accuracy: 0.2979\n",
            "Epoch 4/200\n",
            "34/34 [==============================] - 0s 4ms/step - loss: 1.5347 - accuracy: 0.4094 - val_loss: 1.5843 - val_accuracy: 0.2872\n",
            "Epoch 5/200\n",
            "34/34 [==============================] - 0s 4ms/step - loss: 1.4801 - accuracy: 0.4132 - val_loss: 1.6066 - val_accuracy: 0.3085\n",
            "Epoch 6/200\n",
            "34/34 [==============================] - 0s 4ms/step - loss: 1.4250 - accuracy: 0.4396 - val_loss: 1.5727 - val_accuracy: 0.3191\n",
            "Epoch 7/200\n",
            "34/34 [==============================] - 0s 4ms/step - loss: 1.3541 - accuracy: 0.4679 - val_loss: 1.5896 - val_accuracy: 0.3085\n",
            "Epoch 8/200\n",
            "34/34 [==============================] - 0s 4ms/step - loss: 1.2914 - accuracy: 0.4981 - val_loss: 1.5731 - val_accuracy: 0.3511\n",
            "Epoch 9/200\n",
            "34/34 [==============================] - 0s 4ms/step - loss: 1.2144 - accuracy: 0.5283 - val_loss: 1.6291 - val_accuracy: 0.3191\n",
            "5/5 [==============================] - 0s 1ms/step - loss: 1.8007 - accuracy: 0.3057\n"
          ]
        }
      ],
      "source": [
        "import tensorflow as tf\n",
        "\n",
        "from keras.models import Sequential\n",
        "from keras.layers import Dense, Dropout, Conv2D, MaxPool2D, Flatten\n",
        "from keras.utils import np_utils\n",
        "from sklearn.metrics import accuracy_score\n",
        "\n",
        "import logging\n",
        "logging.getLogger('tensorflow').setLevel(logging.ERROR)\n",
        "\n",
        "n_classes = len(keywords.labels)\n",
        "\n",
        "print(f\"Las representaciones de los mensajes son de {X_train.shape[0]}x{X_train.shape[1]}\")\n",
        "\n",
        "X_train = X_train.reshape(X_train.shape[0], X_train.shape[1], X_train.shape[2], 1)\n",
        "X_val = X_val.reshape(X_val.shape[0], X_val.shape[1], X_val.shape[2], 1)\n",
        "X_test = X_test.reshape(X_test.shape[0], X_test.shape[1], X_test.shape[2], 1)\n",
        "X_train = X_train.astype('float32')\n",
        "X_test = X_test.astype('float32')\n",
        "X_val = X_val.astype('float32')\n",
        "\n",
        "# one-hot encoding:\n",
        "Y_train = np_utils.to_categorical(y_train, n_classes)\n",
        "Y_val = np_utils.to_categorical(y_val, n_classes)\n",
        "Y_test = np_utils.to_categorical(y_test, n_classes)\n",
        "\n",
        "tf.keras.backend.clear_session()\n",
        "\n",
        "model = Sequential()\n",
        "model.add(Conv2D(25, kernel_size=(3,3), strides=(1,1), padding='valid', activation='relu', \n",
        "                            input_shape=(X_train.shape[1],X_train.shape[2],1)))\n",
        "model.add(MaxPool2D(pool_size=(1,1)))\n",
        "model.add(Flatten())\n",
        "model.add(Dense(100, activation='relu'))\n",
        "model.add(Dense(n_classes, activation='softmax'))\n",
        "\n",
        "model.compile(loss='categorical_crossentropy', metrics=['accuracy'], optimizer='adam')\n",
        "\n",
        "# entrenar el modelo:\n",
        "early_callback = tf.keras.callbacks.EarlyStopping(monitor='val_loss',patience=3)\n",
        "history = model.fit(X_train, Y_train, batch_size=16, epochs=200, validation_data=(X_val, Y_val)\n",
        "            ,callbacks=[early_callback])\n",
        "\n",
        "score = model.evaluate(X_test, Y_test)"
      ]
    },
    {
      "cell_type": "markdown",
      "metadata": {
        "id": "zAJcKcjlJH9l"
      },
      "source": [
        "Graficamos las curvas de entrenamiento"
      ]
    },
    {
      "cell_type": "code",
      "execution_count": null,
      "metadata": {
        "id": "Eh0zVkr1JH9l",
        "outputId": "81a70c1b-6174-42e0-d1cb-d37161e38475"
      },
      "outputs": [
        {
          "data": {
            "image/png": "[encoded data removed]",
            "text/plain": [
              "<Figure size 600x400 with 1 Axes>"
            ]
          },
          "metadata": {
            "needs_background": "light"
          },
          "output_type": "display_data"
        },
        {
          "data": {
            "image/png": "[encoded data removed]",
            "text/plain": [
              "<Figure size 600x400 with 1 Axes>"
            ]
          },
          "metadata": {
            "needs_background": "light"
          },
          "output_type": "display_data"
        }
      ],
      "source": [
        "plt.figure(dpi=100)\n",
        "plt.plot(history.history['loss'])\n",
        "plt.plot(history.history['val_loss'])\n",
        "plt.title('model loss')\n",
        "plt.ylabel('loss')\n",
        "plt.xlabel('epoch')\n",
        "plt.legend(['train', 'validation'], loc='upper left')\n",
        "plt.show()\n",
        "\n",
        "plt.figure(dpi=100)\n",
        "plt.plot(history.history['accuracy'], label='train')\n",
        "plt.plot(history.history['val_accuracy'], label='test')\n",
        "plt.title('model accuracy')\n",
        "plt.ylabel('accuracy')\n",
        "plt.xlabel('epoch')\n",
        "plt.legend(['train', 'validation'], loc='upper left')\n",
        "plt.show()"
      ]
    },
    {
      "cell_type": "code",
      "execution_count": null,
      "metadata": {
        "id": "S47hD2teJH9m",
        "outputId": "233635ce-a487-4908-a9e0-2e40ca46ddd4"
      },
      "outputs": [
        {
          "name": "stdout",
          "output_type": "stream",
          "text": [
            "Test loss: 1.801\n",
            "Test accuracy: 30.57%\n",
            "ROC: 0.6219640727462517\n",
            "Accuracy: 0.3057324840764331\n",
            "Recall: 0.20743355481727574\n"
          ]
        },
        {
          "data": {
            "image/png": "[encoded data removed]",
            "text/plain": [
              "<Figure size 720x480 with 2 Axes>"
            ]
          },
          "metadata": {
            "needs_background": "light"
          },
          "output_type": "display_data"
        }
      ],
      "source": [
        "from sklearn.metrics import roc_auc_score, accuracy_score, recall_score, confusion_matrix\n",
        "from tensorflow.keras.utils import to_categorical\n",
        "\n",
        "print (f\"Test loss: {round(score[0],3)}\")\n",
        "print (f\"Test accuracy: {round(score[1]*100,2)}%\")\n",
        "\n",
        "Y_pred = model.predict(X_test)\n",
        "\n",
        "roc = roc_auc_score(Y_test,Y_pred,multi_class=\"ovr\")\n",
        "accuracy = accuracy_score(np.argmax(Y_test,axis=1),np.argmax(Y_pred,axis=1))\n",
        "recall = recall_score(np.argmax(Y_test,axis=1),np.argmax(Y_pred,axis=1),average='macro')\n",
        "cm = confusion_matrix(np.argmax(Y_test,axis=1),np.argmax(Y_pred,axis=1))\n",
        "\n",
        "print(f\"ROC: {roc}\")\n",
        "print(f\"Accuracy: {accuracy}\")\n",
        "print(f\"Recall: {recall}\")\n",
        "show_confusion_matrix(cm)"
      ]
    },
    {
      "cell_type": "code",
      "execution_count": null,
      "metadata": {
        "id": "w5WTfJFNJH9m"
      },
      "outputs": [],
      "source": [
        ""
      ]
    }
  ],
  "metadata": {
    "interpreter": {
      "hash": "916dbcbb3f70747c44a77c7bcd40155683ae19c65e1c03b4aa3499c5328201f1"
    },
    "kernelspec": {
      "display_name": "Python 3.8.10 64-bit",
      "name": "python3"
    },
    "language_info": {
      "codemirror_mode": {
        "name": "ipython",
        "version": 3
      },
      "file_extension": ".py",
      "mimetype": "text/x-python",
      "name": "python",
      "nbconvert_exporter": "python",
      "pygments_lexer": "ipython3",
      "version": "3.8.10"
    },
    "orig_nbformat": 4,
    "colab": {
      "name": "Walkthrough.ipynb",
      "provenance": [],
      "collapsed_sections": []
    }
  },
  "nbformat": 4,
  "nbformat_minor": 0
}