{
 "cells": [
  {
   "cell_type": "code",
   "execution_count": 1,
   "metadata": {},
   "outputs": [],
   "source": [
    "import pandas as pd\n",
    "import numpy as np\n",
    "import matplotlib.pyplot as plt"
   ]
  },
  {
   "cell_type": "markdown",
   "metadata": {},
   "source": [
    "# 0. Cargar dataframe con el corpus"
   ]
  },
  {
   "cell_type": "markdown",
   "metadata": {},
   "source": [
    "Puede hacer falta instalar *openpyxl*:\n",
    "\n",
    "`pip3 install openpyxl`"
   ]
  },
  {
   "cell_type": "code",
   "execution_count": 2,
   "metadata": {},
   "outputs": [
    {
     "data": {
      "text/html": [
       "<div>\n",
       "<style scoped>\n",
       "    .dataframe tbody tr th:only-of-type {\n",
       "        vertical-align: middle;\n",
       "    }\n",
       "\n",
       "    .dataframe tbody tr th {\n",
       "        vertical-align: top;\n",
       "    }\n",
       "\n",
       "    .dataframe thead th {\n",
       "        text-align: right;\n",
       "    }\n",
       "</style>\n",
       "<table border=\"1\" class=\"dataframe\">\n",
       "  <thead>\n",
       "    <tr style=\"text-align: right;\">\n",
       "      <th></th>\n",
       "      <th>Unnamed: 0</th>\n",
       "      <th>Exc_register_id</th>\n",
       "      <th>Exc_patientCenter_id</th>\n",
       "      <th>Exc_texto_relleno</th>\n",
       "      <th>TEXTO_SIN_STOPWORDS</th>\n",
       "      <th>texto_tokenizado</th>\n",
       "      <th>Num_palabras</th>\n",
       "      <th>Mexico02</th>\n",
       "      <th>Mexico01</th>\n",
       "      <th>CurrentActivity</th>\n",
       "      <th>...</th>\n",
       "      <th>CSSRS06</th>\n",
       "      <th>CSSRS07</th>\n",
       "      <th>NSSIIS01B_Sometimes</th>\n",
       "      <th>NSSIIS01B_Last_Month_nb</th>\n",
       "      <th>T_WHODAS</th>\n",
       "      <th>T_PHQ_9</th>\n",
       "      <th>T_GAD_2</th>\n",
       "      <th>T_DAST</th>\n",
       "      <th>T_ALC</th>\n",
       "      <th>BMI</th>\n",
       "    </tr>\n",
       "  </thead>\n",
       "  <tbody>\n",
       "    <tr>\n",
       "      <th>698</th>\n",
       "      <td>1875</td>\n",
       "      <td>5daf70582fc6763ec057404a</td>\n",
       "      <td>70230</td>\n",
       "      <td>Me pareció muy interesante la encuesta porque ...</td>\n",
       "      <td>pareció interesante encuesta dan conocer sínto...</td>\n",
       "      <td>['pareció', 'interesante', 'encuesta', 'dan', ...</td>\n",
       "      <td>10</td>\n",
       "      <td>Si</td>\n",
       "      <td>Si</td>\n",
       "      <td>Estudiante</td>\n",
       "      <td>...</td>\n",
       "      <td>No</td>\n",
       "      <td>NaN</td>\n",
       "      <td>No</td>\n",
       "      <td>0</td>\n",
       "      <td>44.6</td>\n",
       "      <td>12.0</td>\n",
       "      <td>3.0</td>\n",
       "      <td>0.0</td>\n",
       "      <td>0.0</td>\n",
       "      <td>28.303850</td>\n",
       "    </tr>\n",
       "    <tr>\n",
       "      <th>799</th>\n",
       "      <td>2035</td>\n",
       "      <td>5e619e188e5df806823be50f</td>\n",
       "      <td>86962</td>\n",
       "      <td>Me obligaron estoy perdiendo el tiempo me hago...</td>\n",
       "      <td>obligaron perdiendo tiempo hago dos horas lleg...</td>\n",
       "      <td>['obligaron', 'perdiendo', 'tiempo', 'hago', '...</td>\n",
       "      <td>25</td>\n",
       "      <td>No</td>\n",
       "      <td>NaN</td>\n",
       "      <td>NaN</td>\n",
       "      <td>...</td>\n",
       "      <td>NaN</td>\n",
       "      <td>NaN</td>\n",
       "      <td>NaN</td>\n",
       "      <td>NaN</td>\n",
       "      <td>NaN</td>\n",
       "      <td>NaN</td>\n",
       "      <td>NaN</td>\n",
       "      <td>NaN</td>\n",
       "      <td>NaN</td>\n",
       "      <td>NaN</td>\n",
       "    </tr>\n",
       "    <tr>\n",
       "      <th>569</th>\n",
       "      <td>1426</td>\n",
       "      <td>5da501852fc6763e22324ec0</td>\n",
       "      <td>68189</td>\n",
       "      <td>Muy mal estructuradas las preguntas pues me da...</td>\n",
       "      <td>mal estructuradas preguntas pues dan dos opcio...</td>\n",
       "      <td>['mal', 'estructuradas', 'preguntas', 'pues', ...</td>\n",
       "      <td>13</td>\n",
       "      <td>Si</td>\n",
       "      <td>Si</td>\n",
       "      <td>Estudiante</td>\n",
       "      <td>...</td>\n",
       "      <td>No</td>\n",
       "      <td>NaN</td>\n",
       "      <td>No</td>\n",
       "      <td>0</td>\n",
       "      <td>65.6</td>\n",
       "      <td>3.0</td>\n",
       "      <td>0.0</td>\n",
       "      <td>0.0</td>\n",
       "      <td>0.0</td>\n",
       "      <td>30.449827</td>\n",
       "    </tr>\n",
       "  </tbody>\n",
       "</table>\n",
       "<p>3 rows × 76 columns</p>\n",
       "</div>"
      ],
      "text/plain": [
       "     Unnamed: 0           Exc_register_id  Exc_patientCenter_id  \\\n",
       "698        1875  5daf70582fc6763ec057404a                 70230   \n",
       "799        2035  5e619e188e5df806823be50f                 86962   \n",
       "569        1426  5da501852fc6763e22324ec0                 68189   \n",
       "\n",
       "                                     Exc_texto_relleno  \\\n",
       "698  Me pareció muy interesante la encuesta porque ...   \n",
       "799  Me obligaron estoy perdiendo el tiempo me hago...   \n",
       "569  Muy mal estructuradas las preguntas pues me da...   \n",
       "\n",
       "                                   TEXTO_SIN_STOPWORDS  \\\n",
       "698  pareció interesante encuesta dan conocer sínto...   \n",
       "799  obligaron perdiendo tiempo hago dos horas lleg...   \n",
       "569  mal estructuradas preguntas pues dan dos opcio...   \n",
       "\n",
       "                                      texto_tokenizado  Num_palabras Mexico02  \\\n",
       "698  ['pareció', 'interesante', 'encuesta', 'dan', ...            10       Si   \n",
       "799  ['obligaron', 'perdiendo', 'tiempo', 'hago', '...            25       No   \n",
       "569  ['mal', 'estructuradas', 'preguntas', 'pues', ...            13       Si   \n",
       "\n",
       "    Mexico01 CurrentActivity  ... CSSRS06  CSSRS07  NSSIIS01B_Sometimes  \\\n",
       "698       Si      Estudiante  ...      No      NaN                   No   \n",
       "799      NaN             NaN  ...     NaN      NaN                  NaN   \n",
       "569       Si      Estudiante  ...      No      NaN                   No   \n",
       "\n",
       "    NSSIIS01B_Last_Month_nb  T_WHODAS T_PHQ_9 T_GAD_2 T_DAST T_ALC        BMI  \n",
       "698                       0      44.6    12.0     3.0    0.0   0.0  28.303850  \n",
       "799                     NaN       NaN     NaN     NaN    NaN   NaN        NaN  \n",
       "569                       0      65.6     3.0     0.0    0.0   0.0  30.449827  \n",
       "\n",
       "[3 rows x 76 columns]"
      ]
     },
     "execution_count": 2,
     "metadata": {},
     "output_type": "execute_result"
    }
   ],
   "source": [
    "df = pd.read_excel('DATA/corpus2.xlsx')\n",
    "df.sample(3)"
   ]
  },
  {
   "cell_type": "markdown",
   "metadata": {},
   "source": [
    "Definimos la columna de texto y de etiqueta"
   ]
  },
  {
   "cell_type": "code",
   "execution_count": 3,
   "metadata": {},
   "outputs": [],
   "source": [
    "text_col_name = \"TEXTO_SIN_STOPWORDS\"\n",
    "label_col_name = \"T_GAD_2\""
   ]
  },
  {
   "cell_type": "markdown",
   "metadata": {},
   "source": [
    "Eliminar las columnas sin etiqueta"
   ]
  },
  {
   "cell_type": "code",
   "execution_count": 4,
   "metadata": {},
   "outputs": [],
   "source": [
    "df.dropna(subset=[label_col_name],inplace=True)\n",
    "df.reset_index(drop=True,inplace=True)"
   ]
  },
  {
   "cell_type": "markdown",
   "metadata": {},
   "source": [
    "Información de las etiquetas de los mensajes"
   ]
  },
  {
   "cell_type": "code",
   "execution_count": 5,
   "metadata": {},
   "outputs": [
    {
     "name": "stdout",
     "output_type": "stream",
     "text": [
      "Hay 7 etiquetas:\n",
      " [0. 1. 2. 3. 4. 5. 6.]\n"
     ]
    }
   ],
   "source": [
    "\n",
    "labels = np.unique(df[label_col_name].values)\n",
    "n_classes = len(labels)\n",
    "print(f\"Hay {n_classes} etiquetas:\\n {labels}\")"
   ]
  },
  {
   "cell_type": "markdown",
   "metadata": {},
   "source": [
    "# 1. Obtener palabras prototípicas"
   ]
  },
  {
   "cell_type": "markdown",
   "metadata": {},
   "source": [
    "Puede hacer falta instalar *spacy* y el módelo *es_core_news_sm*:\n",
    "\n",
    "`pip3 install spacy`\n",
    "\n",
    "`python3 -m spacy download es_core_news_sm`"
   ]
  },
  {
   "cell_type": "code",
   "execution_count": 6,
   "metadata": {},
   "outputs": [
    {
     "name": "stderr",
     "output_type": "stream",
     "text": [
      "2022-02-08 12:40:40.696156: W tensorflow/stream_executor/platform/default/dso_loader.cc:64] Could not load dynamic library 'libcudart.so.11.0'; dlerror: libcudart.so.11.0: cannot open shared object file: No such file or directory\n",
      "2022-02-08 12:40:40.696170: I tensorflow/stream_executor/cuda/cudart_stub.cc:29] Ignore above cudart dlerror if you do not have a GPU set up on your machine.\n"
     ]
    }
   ],
   "source": [
    "from SentimentKW import KW\n",
    "\n",
    "keywords = KW(df,text_col_name=text_col_name, label_col_name=label_col_name)"
   ]
  },
  {
   "cell_type": "code",
   "execution_count": 7,
   "metadata": {},
   "outputs": [
    {
     "data": {
      "text/plain": [
       "[('demasiadas', -0.21070685294285255),\n",
       " ('edad', -0.2597963879369219),\n",
       " ('parecio', -0.2633835661785657),\n",
       " ('resolver', -0.07918441096934463),\n",
       " ('momento', -0.24358824692263184),\n",
       " ('consecuencias', -0.19796102742336166),\n",
       " ('práctica', -0.1580301397071394),\n",
       " ('población', 0.0867554186574777),\n",
       " ('voy', -0.21211158183308065),\n",
       " ('sexuales', -0.11875252950277776)]"
      ]
     },
     "execution_count": 7,
     "metadata": {},
     "output_type": "execute_result"
    }
   ],
   "source": [
    "W0 = keywords.get_kw(topn=100)\n",
    "list(W0.items())[:10]"
   ]
  },
  {
   "cell_type": "markdown",
   "metadata": {},
   "source": [
    "# 2. Entrenar modelo de word2vec o FastText"
   ]
  },
  {
   "cell_type": "markdown",
   "metadata": {},
   "source": [
    "Word2vec:"
   ]
  },
  {
   "cell_type": "code",
   "execution_count": 8,
   "metadata": {},
   "outputs": [
    {
     "name": "stdout",
     "output_type": "stream",
     "text": [
      "[['persona', 'hipersensible', 'extremadamente', 'emocional', 'asisto', 'terapia', 'dbt', 'dialectical', 'behavor', 'therapy', 'mejorado', 'manera', 'gradual', 'manejo', 'emociones', 'conductas'], ['mantengo', 'relaciones', 'sexuales', 'si', 'puse', 'si', 'estable']]\n"
     ]
    }
   ],
   "source": [
    "from gensim.models import Word2Vec\n",
    "\n",
    "tokens = [x.split() for x in list(df[text_col_name].values)]\n",
    "print(tokens[:2])\n",
    "\n",
    "dim = 100\n",
    "W2V_model = Word2Vec(tokens, min_count=1, vector_size=dim, workers=4, window=5)\n",
    "W2V_model.save(\"DATA/w2v-TEXTO_SIN_STOPWORDS.model\")"
   ]
  },
  {
   "cell_type": "markdown",
   "metadata": {},
   "source": [
    "También se puede entrenar el módelo en FastText"
   ]
  },
  {
   "cell_type": "code",
   "execution_count": 8,
   "metadata": {},
   "outputs": [],
   "source": [
    "from gensim.models import FastText\n",
    "\n",
    "dim = 100\n",
    "FT_model = FastText(tokens, min_count=1, vector_size=dim, workers=4, window=5)\n",
    "\n",
    "# Genera un archivo más grande\n",
    "# FT_model.save(\"DATA/FT-TEXTO_SIN_STOPWORDS.model\")   "
   ]
  },
  {
   "cell_type": "markdown",
   "metadata": {},
   "source": [
    "# 3. Word Scoring\n",
    "\n",
    "Más información y detalles sobre el uso de esta clase: [https://github.com/labsemco/word-scoring](https://github.com/labsemco/word-scoring)"
   ]
  },
  {
   "cell_type": "markdown",
   "metadata": {},
   "source": [
    "Leemos el modelo pre-entrenado que vayamos a usar"
   ]
  },
  {
   "cell_type": "code",
   "execution_count": 9,
   "metadata": {},
   "outputs": [],
   "source": [
    "from scoring import Scoring\n",
    "from gensim.models import Word2Vec\n",
    "\n",
    "w2v_model = Word2Vec.load(\"DATA/w2v-TEXTO_SIN_STOPWORDS.model\")\n",
    "\n",
    "puntaje = Scoring(w2vmodel=w2v_model,W0=W0)"
   ]
  },
  {
   "cell_type": "markdown",
   "metadata": {},
   "source": [
    "Si es la primera vez que se ejecuta, o se modificaron los embeddings o palabras prototípicas, correr esta celda:"
   ]
  },
  {
   "cell_type": "code",
   "execution_count": 11,
   "metadata": {},
   "outputs": [
    {
     "name": "stdout",
     "output_type": "stream",
     "text": [
      "Neighbors dictionary saved.\n"
     ]
    }
   ],
   "source": [
    "puntaje.build_neighbors(alpha=0.5)\n",
    "\n",
    "puntaje.save_neighbors(\"DATA/vecinos-dict.pickle\")"
   ]
  },
  {
   "cell_type": "markdown",
   "metadata": {},
   "source": [
    "Si no se ha modificado los embeddings o las palabras prototípicas, puede leerse el diccionario de vecinos, para no calcularlo otra vez."
   ]
  },
  {
   "cell_type": "code",
   "execution_count": 10,
   "metadata": {},
   "outputs": [],
   "source": [
    "puntaje.load_neighbors(\"DATA/vecinos-dict.pickle\")"
   ]
  },
  {
   "cell_type": "markdown",
   "metadata": {},
   "source": [
    "Calcular el puntaje de palabras"
   ]
  },
  {
   "cell_type": "code",
   "execution_count": 11,
   "metadata": {},
   "outputs": [
    {
     "data": {
      "text/html": [
       "<div>\n",
       "<style scoped>\n",
       "    .dataframe tbody tr th:only-of-type {\n",
       "        vertical-align: middle;\n",
       "    }\n",
       "\n",
       "    .dataframe tbody tr th {\n",
       "        vertical-align: top;\n",
       "    }\n",
       "\n",
       "    .dataframe thead th {\n",
       "        text-align: right;\n",
       "    }\n",
       "</style>\n",
       "<table border=\"1\" class=\"dataframe\">\n",
       "  <thead>\n",
       "    <tr style=\"text-align: right;\">\n",
       "      <th></th>\n",
       "      <th>word</th>\n",
       "      <th>score</th>\n",
       "    </tr>\n",
       "  </thead>\n",
       "  <tbody>\n",
       "    <tr>\n",
       "      <th>955</th>\n",
       "      <td>maestro</td>\n",
       "      <td>0.999997</td>\n",
       "    </tr>\n",
       "    <tr>\n",
       "      <th>1382</th>\n",
       "      <td>pánico</td>\n",
       "      <td>0.999993</td>\n",
       "    </tr>\n",
       "    <tr>\n",
       "      <th>2282</th>\n",
       "      <td>comunidades</td>\n",
       "      <td>0.999993</td>\n",
       "    </tr>\n",
       "    <tr>\n",
       "      <th>2105</th>\n",
       "      <td>pase</td>\n",
       "      <td>0.999993</td>\n",
       "    </tr>\n",
       "    <tr>\n",
       "      <th>1877</th>\n",
       "      <td>departamento</td>\n",
       "      <td>0.999993</td>\n",
       "    </tr>\n",
       "    <tr>\n",
       "      <th>...</th>\n",
       "      <td>...</td>\n",
       "      <td>...</td>\n",
       "    </tr>\n",
       "    <tr>\n",
       "      <th>269</th>\n",
       "      <td>adolescentes</td>\n",
       "      <td>-0.548907</td>\n",
       "    </tr>\n",
       "    <tr>\n",
       "      <th>640</th>\n",
       "      <td>ciudad</td>\n",
       "      <td>-0.553531</td>\n",
       "    </tr>\n",
       "    <tr>\n",
       "      <th>855</th>\n",
       "      <td>cuadro</td>\n",
       "      <td>-0.585947</td>\n",
       "    </tr>\n",
       "    <tr>\n",
       "      <th>462</th>\n",
       "      <td>herramienta</td>\n",
       "      <td>-0.619714</td>\n",
       "    </tr>\n",
       "    <tr>\n",
       "      <th>529</th>\n",
       "      <td>felicidad</td>\n",
       "      <td>-0.698362</td>\n",
       "    </tr>\n",
       "  </tbody>\n",
       "</table>\n",
       "<p>2500 rows × 2 columns</p>\n",
       "</div>"
      ],
      "text/plain": [
       "              word     score\n",
       "955        maestro  0.999997\n",
       "1382        pánico  0.999993\n",
       "2282   comunidades  0.999993\n",
       "2105          pase  0.999993\n",
       "1877  departamento  0.999993\n",
       "...            ...       ...\n",
       "269   adolescentes -0.548907\n",
       "640         ciudad -0.553531\n",
       "855         cuadro -0.585947\n",
       "462    herramienta -0.619714\n",
       "529      felicidad -0.698362\n",
       "\n",
       "[2500 rows x 2 columns]"
      ]
     },
     "execution_count": 11,
     "metadata": {},
     "output_type": "execute_result"
    }
   ],
   "source": [
    "scores_df = puntaje.transform(df=df,text_col=text_col_name,label_col=label_col_name,beta1=1,beta2=1)\n",
    "scores_df.sort_values(by='score',ascending=False)"
   ]
  },
  {
   "cell_type": "markdown",
   "metadata": {},
   "source": [
    "# 4. Clasificación"
   ]
  },
  {
   "cell_type": "code",
   "execution_count": 12,
   "metadata": {},
   "outputs": [],
   "source": [
    "import seaborn as sns\n",
    "\n",
    "def show_confusion_matrix(confusion_matrix):\n",
    "  plt.figure(dpi=120)\n",
    "  hmap = sns.heatmap(confusion_matrix, annot=True, fmt=\"d\", cmap=\"Blues\")\n",
    "  new_xticks =  [str(int(x.get_text())+1) for x in hmap.xaxis.get_ticklabels()]\n",
    "  new_yticks =  [str(int(x.get_text())+1) for x in hmap.yaxis.get_ticklabels()]\n",
    "  hmap.xaxis.set_ticklabels(new_xticks, rotation=0, ha='right')\n",
    "  hmap.yaxis.set_ticklabels(new_yticks, rotation=0, ha='right')\n",
    "  plt.ylabel('True label')\n",
    "  plt.xlabel('Predicted label')\n",
    "  plt.show()"
   ]
  },
  {
   "cell_type": "markdown",
   "metadata": {},
   "source": [
    "## 4.1 Representación de textos usando promedios\n",
    "\n",
    "Obtenemos una matriz de vectores de features representando a cada entidad de texto. Estas representaciones sirven para realizar la clasificación y predicción de etiquetas, usando métodos de *Machine Learning*.\n",
    "\n",
    "Hay tres opciones para probar:\n",
    "\n",
    "* Representación promedio `get_texts_representations_mean()`\n",
    "* Representación promedio parcial `get_texts_representations_Nmean()`\n",
    "* Representación PCA `get_texts_representations_PCA()`"
   ]
  },
  {
   "cell_type": "code",
   "execution_count": 15,
   "metadata": {},
   "outputs": [
    {
     "data": {
      "text/plain": [
       "array([[ 0.01649833,  0.00087014, -0.04205753,  0.03341715,  0.00188172],\n",
       "       [ 0.02033583, -0.01294002,  0.01220413, -0.00500742, -0.01063542],\n",
       "       [ 0.15574715, -0.05531801,  0.01736549, -0.01367876, -0.00178864]])"
      ]
     },
     "execution_count": 15,
     "metadata": {},
     "output_type": "execute_result"
    }
   ],
   "source": [
    "# Escoger una de las tres:\n",
    "\n",
    "# X = puntaje.get_texts_representations_mean()\n",
    "# X = puntaje.get_texts_representations_Nmean(n=3)\n",
    "X = puntaje.get_texts_representations_PCA()\n",
    "\n",
    "X[:3,:5]"
   ]
  },
  {
   "cell_type": "markdown",
   "metadata": {},
   "source": [
    "La clasificación puede hacerse usando cualquier clasificador (k-nearest neighbors, Naive Bayes, xgboost, etc.). La implementación es similar a esta."
   ]
  },
  {
   "cell_type": "code",
   "execution_count": 21,
   "metadata": {},
   "outputs": [
    {
     "name": "stdout",
     "output_type": "stream",
     "text": [
      "Accuracy: 0.3050847457627119\n",
      "Recall: 0.20608164214302319\n",
      "ROC: 0.5378762930123784\n"
     ]
    },
    {
     "data": {
      "image/png": "[encoded data removed]",
      "text/plain": [
       "<Figure size 720x480 with 2 Axes>"
      ]
     },
     "metadata": {
      "needs_background": "light"
     },
     "output_type": "display_data"
    }
   ],
   "source": [
    "from sklearn.model_selection import train_test_split\n",
    "from sklearn.svm import SVC\n",
    "from sklearn.metrics import accuracy_score,recall_score,multilabel_confusion_matrix, roc_auc_score,confusion_matrix\n",
    "# from keras.utils import to_categorical\n",
    "from tensorflow.keras.utils import to_categorical\n",
    "\n",
    "# Vector de etiquetas\n",
    "y = df[label_col_name].values\n",
    "\n",
    "# Entrenamiento y predicción\n",
    "X_train, X_test, y_train, y_test = train_test_split(X, y, test_size=0.15, random_state=28)\n",
    "svm = SVC(kernel='rbf', C=1)\n",
    "svm_model = svm.fit(X_train,y_train)\n",
    "y_pred = svm_model.predict(X_test)\n",
    "\n",
    "# Obtenemos las métricas de la clasificación\n",
    "accuracy = accuracy_score(y_test, y_pred)\n",
    "recall = recall_score(y_test,y_pred,average='macro')\n",
    "roc = roc_auc_score(to_categorical(y_test, n_classes),\n",
    "                    to_categorical(y_pred, n_classes),\n",
    "                    multi_class=\"ovr\")\n",
    "cm = confusion_matrix(y_test,y_pred)\n",
    "\n",
    "print(f\"Accuracy: {accuracy}\")\n",
    "print(f\"Recall: {recall}\")\n",
    "print(f\"ROC: {roc}\")\n",
    "show_confusion_matrix(cm)\n"
   ]
  },
  {
   "cell_type": "markdown",
   "metadata": {},
   "source": [
    "## 4.2 Representaciones usando matrices y CNN"
   ]
  },
  {
   "cell_type": "markdown",
   "metadata": {},
   "source": [
    "También puede hacerse la clasificación usando una red neuronal convolucional, usando representaciones matriciales de mensajes en lugar de representaciones vectoriales. \n",
    "\n",
    "IMPORTANTE: Necesita la tarjeta gráfica, puede correrse en colab."
   ]
  },
  {
   "cell_type": "code",
   "execution_count": 22,
   "metadata": {},
   "outputs": [
    {
     "name": "stdout",
     "output_type": "stream",
     "text": [
      "X: (781, 100, 5)\n",
      "y: (781,)\n",
      "Train: (530, 100, 5) (530,)\n",
      "Validation: (94, 100, 5) (94,)\n",
      "Test: (157, 100, 5) (157,)\n"
     ]
    }
   ],
   "source": [
    "from sklearn.model_selection import train_test_split\n",
    "\n",
    "X = puntaje.get_texts_representations_MAT(cols_num=5)  # Puede experimentarse con el valor de cols_num, debe ser mayor o igual que 2.\n",
    "y = df[label_col_name].values\n",
    "\n",
    "print(\"X:\",X.shape)\n",
    "print(\"y:\",y.shape)\n",
    "\n",
    "X_train, X_test, y_train, y_test = train_test_split(X, y, test_size=0.2, random_state=28)\n",
    "\n",
    "val_size = int(0.85*X_train.shape[0])\n",
    "X_val = X_train[val_size:]\n",
    "y_val = y_train[val_size:]\n",
    "X_train = X_train[:val_size]\n",
    "y_train = y_train[:val_size]\n",
    "print(\"Train:\",X_train.shape,y_train.shape)\n",
    "print(\"Validation:\",X_val.shape,y_val.shape)\n",
    "print(\"Test:\",X_test.shape,y_test.shape)"
   ]
  },
  {
   "cell_type": "code",
   "execution_count": 23,
   "metadata": {},
   "outputs": [
    {
     "name": "stdout",
     "output_type": "stream",
     "text": [
      "Las representaciones de los mensajes son de 530x100\n",
      "Epoch 1/200\n"
     ]
    },
    {
     "name": "stderr",
     "output_type": "stream",
     "text": [
      "2022-02-08 12:20:00.813843: W tensorflow/stream_executor/platform/default/dso_loader.cc:64] Could not load dynamic library 'libcuda.so.1'; dlerror: libcuda.so.1: cannot open shared object file: No such file or directory\n",
      "2022-02-08 12:20:00.813869: W tensorflow/stream_executor/cuda/cuda_driver.cc:269] failed call to cuInit: UNKNOWN ERROR (303)\n",
      "2022-02-08 12:20:00.813883: I tensorflow/stream_executor/cuda/cuda_diagnostics.cc:156] kernel driver does not appear to be running on this host (skywalker): /proc/driver/nvidia/version does not exist\n",
      "2022-02-08 12:20:00.814019: I tensorflow/core/platform/cpu_feature_guard.cc:151] This TensorFlow binary is optimized with oneAPI Deep Neural Network Library (oneDNN) to use the following CPU instructions in performance-critical operations:  AVX2 FMA\n",
      "To enable them in other operations, rebuild TensorFlow with the appropriate compiler flags.\n"
     ]
    },
    {
     "name": "stdout",
     "output_type": "stream",
     "text": [
      "34/34 [==============================] - 0s 7ms/step - loss: 1.7680 - accuracy: 0.2830 - val_loss: 1.6101 - val_accuracy: 0.2979\n",
      "Epoch 2/200\n",
      "34/34 [==============================] - 0s 4ms/step - loss: 1.6749 - accuracy: 0.2698 - val_loss: 1.6162 - val_accuracy: 0.2872\n",
      "Epoch 3/200\n",
      "34/34 [==============================] - 0s 4ms/step - loss: 1.5951 - accuracy: 0.3377 - val_loss: 1.5782 - val_accuracy: 0.3404\n",
      "Epoch 4/200\n",
      "34/34 [==============================] - 0s 4ms/step - loss: 1.5126 - accuracy: 0.3736 - val_loss: 1.5502 - val_accuracy: 0.2660\n",
      "Epoch 5/200\n",
      "34/34 [==============================] - 0s 4ms/step - loss: 1.4433 - accuracy: 0.4283 - val_loss: 1.5521 - val_accuracy: 0.3723\n",
      "Epoch 6/200\n",
      "34/34 [==============================] - 0s 4ms/step - loss: 1.3534 - accuracy: 0.4755 - val_loss: 1.5414 - val_accuracy: 0.2979\n",
      "Epoch 7/200\n",
      "34/34 [==============================] - 0s 4ms/step - loss: 1.3195 - accuracy: 0.5057 - val_loss: 1.6358 - val_accuracy: 0.3298\n",
      "Epoch 8/200\n",
      "34/34 [==============================] - 0s 4ms/step - loss: 1.2046 - accuracy: 0.5491 - val_loss: 1.5774 - val_accuracy: 0.3191\n",
      "Epoch 9/200\n",
      "34/34 [==============================] - 0s 4ms/step - loss: 1.1067 - accuracy: 0.6019 - val_loss: 1.6025 - val_accuracy: 0.3298\n",
      "5/5 [==============================] - 0s 1ms/step - loss: 1.7855 - accuracy: 0.3312\n"
     ]
    }
   ],
   "source": [
    "import tensorflow as tf\n",
    "\n",
    "from keras.models import Sequential\n",
    "from keras.layers import Dense, Dropout, Conv2D, MaxPool2D, Flatten\n",
    "from keras.utils import np_utils\n",
    "from sklearn.metrics import accuracy_score\n",
    "\n",
    "import logging\n",
    "logging.getLogger('tensorflow').setLevel(logging.ERROR)\n",
    "\n",
    "n_classes = len(keywords.labels)\n",
    "\n",
    "print(f\"Las representaciones de los mensajes son de {X_train.shape[0]}x{X_train.shape[1]}\")\n",
    "\n",
    "X_train = X_train.reshape(X_train.shape[0], X_train.shape[1], X_train.shape[2], 1)\n",
    "X_val = X_val.reshape(X_val.shape[0], X_val.shape[1], X_val.shape[2], 1)\n",
    "X_test = X_test.reshape(X_test.shape[0], X_test.shape[1], X_test.shape[2], 1)\n",
    "X_train = X_train.astype('float32')\n",
    "X_test = X_test.astype('float32')\n",
    "X_val = X_val.astype('float32')\n",
    "\n",
    "# one-hot encoding:\n",
    "Y_train = np_utils.to_categorical(y_train, n_classes)\n",
    "Y_val = np_utils.to_categorical(y_val, n_classes)\n",
    "Y_test = np_utils.to_categorical(y_test, n_classes)\n",
    "\n",
    "tf.keras.backend.clear_session()\n",
    "\n",
    "model = Sequential()\n",
    "model.add(Conv2D(25, kernel_size=(3,3), strides=(1,1), padding='valid', activation='relu', \n",
    "                            input_shape=(X_train.shape[1],X_train.shape[2],1)))\n",
    "model.add(MaxPool2D(pool_size=(1,1)))\n",
    "model.add(Flatten())\n",
    "model.add(Dense(100, activation='relu'))\n",
    "model.add(Dense(n_classes, activation='softmax'))\n",
    "\n",
    "model.compile(loss='categorical_crossentropy', metrics=['accuracy'], optimizer='adam')\n",
    "\n",
    "# entrenar el modelo:\n",
    "early_callback = tf.keras.callbacks.EarlyStopping(monitor='val_loss',patience=3)\n",
    "history = model.fit(X_train, Y_train, batch_size=16, epochs=200, validation_data=(X_val, Y_val)\n",
    "            ,callbacks=[early_callback])\n",
    "\n",
    "score = model.evaluate(X_test, Y_test)"
   ]
  },
  {
   "cell_type": "markdown",
   "metadata": {},
   "source": [
    "Graficamos las curvas de entrenamiento"
   ]
  },
  {
   "cell_type": "code",
   "execution_count": 24,
   "metadata": {},
   "outputs": [
    {
     "data": {
      "image/png": "[encoded data removed]",
      "text/plain": [
       "<Figure size 600x400 with 1 Axes>"
      ]
     },
     "metadata": {
      "needs_background": "light"
     },
     "output_type": "display_data"
    },
    {
     "data": {
      "image/png": "[encoded data removed]",
      "text/plain": [
       "<Figure size 600x400 with 1 Axes>"
      ]
     },
     "metadata": {
      "needs_background": "light"
     },
     "output_type": "display_data"
    }
   ],
   "source": [
    "plt.figure(dpi=100)\n",
    "plt.plot(history.history['loss'])\n",
    "plt.plot(history.history['val_loss'])\n",
    "plt.title('model loss')\n",
    "plt.ylabel('loss')\n",
    "plt.xlabel('epoch')\n",
    "plt.legend(['train', 'validation'], loc='upper left')\n",
    "plt.show()\n",
    "\n",
    "plt.figure(dpi=100)\n",
    "plt.plot(history.history['accuracy'], label='train')\n",
    "plt.plot(history.history['val_accuracy'], label='test')\n",
    "plt.title('model accuracy')\n",
    "plt.ylabel('accuracy')\n",
    "plt.xlabel('epoch')\n",
    "plt.legend(['train', 'validation'], loc='upper left')\n",
    "plt.show()"
   ]
  },
  {
   "cell_type": "code",
   "execution_count": 25,
   "metadata": {},
   "outputs": [
    {
     "name": "stdout",
     "output_type": "stream",
     "text": [
      "Test loss: 1.785\n",
      "Test accuracy: 33.12%\n",
      "ROC: 0.6167171049094762\n",
      "Accuracy: 0.33121019108280253\n",
      "Recall: 0.22726328903654483\n"
     ]
    },
    {
     "data": {
      "image/png": "[encoded data removed]",
      "text/plain": [
       "<Figure size 720x480 with 2 Axes>"
      ]
     },
     "metadata": {
      "needs_background": "light"
     },
     "output_type": "display_data"
    }
   ],
   "source": [
    "from sklearn.metrics import roc_auc_score, accuracy_score, recall_score, confusion_matrix\n",
    "from tensorflow.keras.utils import to_categorical\n",
    "\n",
    "print (f\"Test loss: {round(score[0],3)}\")\n",
    "print (f\"Test accuracy: {round(score[1]*100,2)}%\")\n",
    "\n",
    "Y_pred = model.predict(X_test)\n",
    "\n",
    "roc = roc_auc_score(Y_test,Y_pred,multi_class=\"ovr\")\n",
    "accuracy = accuracy_score(np.argmax(Y_test,axis=1),np.argmax(Y_pred,axis=1))\n",
    "recall = recall_score(np.argmax(Y_test,axis=1),np.argmax(Y_pred,axis=1),average='macro')\n",
    "cm = confusion_matrix(np.argmax(Y_test,axis=1),np.argmax(Y_pred,axis=1))\n",
    "\n",
    "print(f\"ROC: {roc}\")\n",
    "print(f\"Accuracy: {accuracy}\")\n",
    "print(f\"Recall: {recall}\")\n",
    "show_confusion_matrix(cm)"
   ]
  },
  {
   "cell_type": "code",
   "execution_count": null,
   "metadata": {},
   "outputs": [],
   "source": []
  }
 ],
 "metadata": {
  "interpreter": {
   "hash": "916dbcbb3f70747c44a77c7bcd40155683ae19c65e1c03b4aa3499c5328201f1"
  },
  "kernelspec": {
   "display_name": "Python 3.8.10 64-bit",
   "name": "python3"
  },
  "language_info": {
   "codemirror_mode": {
    "name": "ipython",
    "version": 3
   },
   "file_extension": ".py",
   "mimetype": "text/x-python",
   "name": "python",
   "nbconvert_exporter": "python",
   "pygments_lexer": "ipython3",
   "version": "3.8.10"
  },
  "orig_nbformat": 4
 },
 "nbformat": 4,
 "nbformat_minor": 2
}
